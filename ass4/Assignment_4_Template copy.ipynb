{
 "cells": [
  {
   "cell_type": "markdown",
   "metadata": {
    "id": "kX9WvTKZMOme"
   },
   "source": [
    "## 9. Numerical Integration (4P) \n",
    "In this exercise, you are going to implement your own version of Newton-Cotes integration and test it on the function $f(x)$:\n",
    "\t\t\n",
    "        \n",
    "$f(x) = \\frac{\\sin(x)}{x} + 1$"
   ]
  },
  {
   "cell_type": "markdown",
   "metadata": {
    "id": "unBfj3igMmNg"
   },
   "source": [
    "### 9.1\n",
    "Define a function $fun$ that takes a value $x$ and returns the corresponding value $f(x)$. Be sure to test whether your function returns the correct value at $x = 0$. Plot the function for $x \\in [-1,10]$"
   ]
  },
  {
   "cell_type": "markdown",
   "metadata": {
    "id": "BtxDj_S4NcL8"
   },
   "source": [
    "### 9.2\n",
    "Define a function $\\texttt{trapezoid(a, b, f)}$ which should return the area under the curve $f$ in the interval $a$ to $b$ in accordance with the Trapezoid rule. $\\textbf{Hint:}$ It is possible in Python to pass function names as input to another function.\n",
    "Test your function by integrating $f(x)$ from $-1.0$ to $10.0$ using 500 interpolation points. $\\textbf{Hint:}$ The result should be around 13.60."
   ]
  },
  {
   "cell_type": "markdown",
   "metadata": {
    "id": "fXZ3X0WbOLBf"
   },
   "source": [
    "### 9.3\n",
    "Define a function $\\texttt{simpson(a, b, f)}$ which should work in much the same way but implements the Simpson rule. Test your function by integrating $f(x)$ from $-1.0$ to $10.0$ using 500 interpolation points."
   ]
  },
  {
   "cell_type": "markdown",
   "metadata": {
    "id": "JZW68Gq2OVuB"
   },
   "source": [
    "### 9.4\n",
    "Compare the accuracy of the two integration rules by integrating $f(x)$ from $-1.0$ to $10.0$ with different numbers of interpolation points [4, 8, 16, 32, 64] in the area. Plot the result of the integration against the number of interpolation points."
   ]
  },
  {
   "cell_type": "markdown",
   "metadata": {
    "id": "G8Na_rKhRQiv"
   },
   "source": [
    "## 10. Partial Differential Equation (5P)\n",
    "\n",
    "In this exercise, you will solve the 1D heat equation numerically and visualize the results for varying conditions.\n",
    "\n",
    "The 1D heat equation is given by:\n",
    "\n",
    "\\begin{equation}\n",
    "    \\frac{ \\partial T(x,t)}{ \\partial t} = \\kappa \\frac{\\partial^2 T(x,t)}{\\partial x},\n",
    "\\end{equation}\n",
    "\n",
    "with $\\kappa$ being the thermal diffusion coefficient and $T(x, t)$ being the temperature at position $x$ and time $t$, respectively.\n",
    "\n",
    "The solve the equation, we can use the forward-time centered-space (FTCS) method:\n",
    "\n",
    "\\begin{equation}\n",
    "    T_i^{n+1} = T_i^{n} + \\frac{\\kappa\\tau}{h^2} (T_{i+1}^{n}+T_{i-1}^{n}-2T_{i}^{n}) \n",
    "\\end{equation}\n",
    "\n",
    "with $\\tau$ and $h$ being the time and spatial step size, respectively.\n",
    "\n",
    "The problem scenario: we apply constant heat to the left end of a bar of length $L$ and are interested about the resulting temperature profile $T$ after a certain amount of time."
   ]
  },
  {
   "cell_type": "markdown",
   "metadata": {},
   "source": [
    "### 10.1\n",
    "Use the provided heat$\\_$eqn function to solve the 1D heat equation for the given parameters below and visualize the initial and final temperature profiles using a line plot (y:temperature, x: bar grid points).\n",
    "As boundary conditions, assume constant heat applied to the left end of the bar, whereas the right end of the rod should remain at 0 temperature.\n"
   ]
  },
  {
   "cell_type": "code",
   "execution_count": 39,
   "metadata": {},
   "outputs": [],
   "source": [
    "# Define the problem\n",
    "L = 1.0 # length of the rod\n",
    "N = 101 # number of grid points\n",
    "dx = L / (N - 1) # spatial step size\n",
    "x = np.linspace(0, L, N) # grid points\n",
    "\n",
    "# Initial temperature profile, heating the bar at the left end\n",
    "u0 = np.zeros_like(x) \n",
    "u0[0] = 100\n",
    "\n",
    "kappa = 1e-1 # thermal diffusivity\n",
    "T = 0.5 # final time\n",
    "dt = dx**2 / (4 * kappa) # time step size"
   ]
  },
  {
   "cell_type": "code",
   "execution_count": 40,
   "metadata": {},
   "outputs": [],
   "source": [
    "def heat_eqn(u0, dx, dt, T, kappa):\n",
    "    N = len(u0)\n",
    "    r = kappa * dt / dx**2\n",
    "    u = u0.copy()\n",
    "    for n in range(int(T/dt)):\n",
    "        u[1:-1] += r * (u[:-2] + u[2:] - 2*u[1:-1])\n",
    "    return u"
   ]
  },
  {
   "cell_type": "markdown",
   "metadata": {},
   "source": [
    "### 10.2 \n",
    "\n",
    "Study the influence of the time step size $dt = dx^2 / (4 * \\kappa)$ by multiplying $dt$ with 1e-3 and 3, respectively.\n",
    "   Plot the final temperature profiles for both $dt$ values in two subplots and discuss the results.\n",
    "   In case you can not plot $3*dt$, discuss possible reasons."
   ]
  },
  {
   "cell_type": "markdown",
   "metadata": {},
   "source": [
    "### 10.3\n",
    "\n",
    "Study the influence of the thermal diffusion coefficient by setting $\\kappa$ to [1e-3, 1e-2, 1e-1, 1], respectively. Choose a $dt$ value that works for all $\\kappa$. Keep the other parameters fixed as defined in 10.1. Visualize and shortly discuss the results.\n",
    "   $\\textbf{Hint}$: You found an appropriate $dt$ when no numerical issues occur. Start with $dt$ as defined in 10.1 and modify from there."
   ]
  },
  {
   "cell_type": "markdown",
   "metadata": {},
   "source": [
    "### 10.4 \n",
    "\n",
    "Instead of heating the metal bar at the left end, define a new temperature profile u0_mid that heats the bar approximately in the middle.\n",
    "   Make a copy of the heat$\\_$eqn function from 10.1 and name it heat$\\_$eqn$\\_$mid. Modify heat$\\_$eqn$\\_$mid such that the temperature in the middle of the rod is constant and 0 at both ends of the rod, respectively. \n",
    "   Visualize the initial and final temperature profiles for the parameters below."
   ]
  },
  {
   "cell_type": "code",
   "execution_count": 17,
   "metadata": {},
   "outputs": [],
   "source": [
    "# Define the problem\n",
    "L = 1.0 # length of the rod\n",
    "N = 101 # number of grid points\n",
    "dx = L / (N - 1) # spatial step size\n",
    "x = np.linspace(0, L, N) # grid points\n",
    "\n",
    "kappa = 1e-1 # thermal diffusivity\n",
    "T = 0.5 # final time\n",
    "dt = dx**2 / (4 * kappa) # time step size\n",
    "\n",
    "# Define the new temperature profile u0_middle here"
   ]
  }
 ],
 "metadata": {
  "colab": {
   "collapsed_sections": [],
   "name": "Assignment_4_Template.ipynb",
   "provenance": []
  },
  "kernelspec": {
   "display_name": "Python 3 (ipykernel)",
   "language": "python",
   "name": "python3"
  },
  "language_info": {
   "codemirror_mode": {
    "name": "ipython",
    "version": 3
   },
   "file_extension": ".py",
   "mimetype": "text/x-python",
   "name": "python",
   "nbconvert_exporter": "python",
   "pygments_lexer": "ipython3",
   "version": "3.8.16"
  }
 },
 "nbformat": 4,
 "nbformat_minor": 4
}
