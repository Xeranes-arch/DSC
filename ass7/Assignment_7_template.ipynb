{
 "cells": [
  {
   "cell_type": "markdown",
   "metadata": {},
   "source": [
    "# Ex. 7.1 Central limit theorem\n",
    "\n",
    "In this exercise you will have to simulate the throw of dices, using a random integer generator.\n",
    "From these results you have to estimate and plot the Probability Distribution Function (PDF) and the Cumulative Distribution Function (CDF) for the result of one dice, as well as for the average score of N dices.\n",
    "\n",
    "\n",
    "The PDFs and CDFs estimated have to be compared with the theoretical ones.  \n"
   ]
  },
  {
   "cell_type": "code",
   "execution_count": null,
   "metadata": {},
   "outputs": [],
   "source": [
    "import numpy as np\n",
    "import matplotlib.pyplot as plt\n",
    "from numpy.random import randint"
   ]
  },
  {
   "cell_type": "markdown",
   "metadata": {},
   "source": [
    "## 7.1.1\n",
    "Simulate the random throw of a 6 faced dice (with numbers from 1 to 6) 1000 times. \n",
    "\n",
    "Plot an histogram which shows the occurrence of each number as a density  (normalized by the total number of throws).\n",
    "\n",
    "In the same plot plot also the theoretical probability distribution (PDF) of obtaining a given number (1-6) \n",
    "\n",
    "\n",
    "Repeat the plot showing the results obtained after 100 000 throws. \n",
    "\n",
    "Explain briefly what is changing between the two plots, and why one should agree more with the theory."
   ]
  },
  {
   "cell_type": "code",
   "execution_count": null,
   "metadata": {},
   "outputs": [],
   "source": [
    "# Check in detail the documentation of plt.hist to find a convnient choice of the arguments\n",
    "help(plt.hist)"
   ]
  },
  {
   "cell_type": "markdown",
   "metadata": {},
   "source": [
    "## 7.1.2\n",
    "For the results obtained from 100 000 throws, plot an histogram of the cumulative distribution.\n",
    "\n",
    "Show in the same plot the expected CDF from the theory. \n",
    "\n",
    "What is the probability of throwing a dice and obtaining a number smaller or equal to 2?  "
   ]
  },
  {
   "cell_type": "markdown",
   "metadata": {},
   "source": [
    "## 7.1.3\n",
    "In the three cases where N= 100, 300, or 1000 we would like to know the probability distribution of the average score after N throws of our dices.\n",
    "\n",
    "Now the variable to be analyzed it is not the result of a single throw, but its average over N throws (the sum of all scores divided by N).\n",
    "\n",
    "Calculate the average score over N throws 1000 times to give a good sampling of this variable.\n",
    "\n",
    "Plot with an histogram the distributions for every N.\n",
    "\n",
    "Add to the plot the PDF that can be predicted for every N using the central limit theorem:\n",
    "\n",
    "$$ PDF(x) =\\frac{1}{\\sqrt{2 \\pi \\sigma_N^2}} e^\\frac{(x-\\mu_N)^2}{2\\sigma_N^2}\n",
    "$$\n",
    "\n",
    "$\\mu_N$ is the mean of the probability distribution (coincides with the mean of the one dice PDF  $\\mu_N=\\mu_1$ ) \n",
    "and $\\sigma_N$ is the standard deviation  of the distribution, which is related to the STD of one dice $\\sigma_1$ by the relationship $\\sigma_N = \\frac{\\sigma_1}{ \\sqrt{N}}$\n",
    "\n",
    "$$ \\sigma_1^2 = E[(x-\\mu)^2]=\\sum_{x=1}^6\\frac{ (x-\\mu)^2 }{6} $$"
   ]
  },
  {
   "cell_type": "markdown",
   "metadata": {},
   "source": [
    "## 7.1.4 \n",
    "\n",
    "For the three values of N, plot the CDF of your data as well as the predicted CDF for an ideal gaussian with mean and standard distribution $\\mu_N,\\sigma_N$.\n",
    "\n",
    "To do so import from scipy the Error function (to not be confused with a cost/loss function, sometimes also called error function) :\n",
    "\n",
    "$$ Erf(z)= \\frac{2}{\\sqrt{\\pi}} \\int_0^z e^{-t^2} dt $$"
   ]
  },
  {
   "cell_type": "code",
   "execution_count": null,
   "metadata": {},
   "outputs": [],
   "source": [
    "from scipy.special import erf"
   ]
  },
  {
   "cell_type": "markdown",
   "metadata": {},
   "source": [
    "# Ex 7.2 Statistical moments of histograms using Pandas.\n",
    "You are given data on olympic athletes in the form of \"A7_ex2_data.csv\", a filtered version of the complete dataset found at [Kaggle.com](https://www.kaggle.com/heesoo37/120-years-of-olympic-history-athletes-and-results/data). From this, you are going to analyse medal distributions.\n",
    "\n",
    "\n",
    "Documentation about the Pandas library, can be found online at:\n",
    "https://pandas.pydata.org/docs/getting_started/intro_tutorials/03_subset_data.html <br>\n",
    "https://pandas.pydata.org/docs/reference/api/pandas.DataFrame.groupby.html <br>\n",
    "\n"
   ]
  },
  {
   "cell_type": "markdown",
   "metadata": {},
   "source": [
    "## 7.2.1\n",
    "Using pandas.read_csv, load the A7_ex2_data.csv file available on Moodle, the data will be uploaded as a pandas DataFrame (pandas.core.frame.DataFrame) . <br> \n",
    "A Gold medal counts as 3 points,a Silver one as 2 points and a Bronze as 1 point. If the $\\texttt{\"Medal\"}$ field for an athlete is $\\texttt{\"NaN\"}$, assume the athlete has not won a medal (0 points).<br>\n",
    "Add to the DataFrame a new column \"Score\", which associate to every Medal the above mentioned points. HINT: initialize a new pandas.Series\n",
    "\n",
    "\n"
   ]
  },
  {
   "cell_type": "code",
   "execution_count": null,
   "metadata": {},
   "outputs": [],
   "source": [
    "import pandas as pd"
   ]
  },
  {
   "cell_type": "markdown",
   "metadata": {},
   "source": [
    "## 7.2.2\n",
    "Divide the pandas DataFrame in two, one for male and the other for female participants. <br>\n",
    "\n",
    "For both genders extract the following data from the DataFrame: <br>\n",
    "1)total participant number per age  <br>\n",
    "2)the total score per age (sum the points for every medal won by atletes of a given age) <br>\n",
    "3)the average score per participant (of given age) per age. <br>\n",
    "\n",
    "In case an athlete participated in multiple competitions, you can count them as multiple participants. <br>\n"
   ]
  },
  {
   "cell_type": "markdown",
   "metadata": {},
   "source": [
    "## 7.2.3\n",
    "Plot these 6 distributions into a single figure with 6 subplots (row 0 corresponds to female participants, row 1 to male participants)."
   ]
  },
  {
   "cell_type": "markdown",
   "metadata": {},
   "source": [
    "## 7.2.4\n",
    "\n",
    "Define a function which computes the following (weighted) statistical quantities of participant ages of all 6 distributions:\n",
    "<ul>\n",
    "    <li>Mean\n",
    "    <li>Standard deviation \n",
    "    <li>variance \n",
    "    <li>Skewness \n",
    "    <li>Kurtosis. \n",
    "</ul>\n",
    "HINT: You can cast pandas Series to np arrays using the to_numpy function. DataFrame.index returns the index colum of a DataFrame ."
   ]
  },
  {
   "cell_type": "markdown",
   "metadata": {},
   "source": [
    "$\\textbf{Hints:}$ The weighted mean is given as:    $\\bar{x} = \\sum_{i} x_i \\cdot w(x_i) / \\sum_{i} w(x_i)$. \n",
    "\n",
    "The $n$-th weighted moment is given as $m_k = \\sum_{i} (x_i - \\bar{x})^k \\cdot w(x_i) / \\sum_{i} w(x_i)$. \n",
    "\n",
    "The variance is: $ \\sigma^2 = m_2$\n",
    "\n",
    "The skewness is given as $m_3 / \\sigma^{3}$.\n",
    "\n",
    "The kurtosis is given as $m_4 / \\sigma^4$.\n",
    "\n",
    "To clearify: $x$ is the age, $w(x)$ are the different distributions."
   ]
  },
  {
   "cell_type": "code",
   "execution_count": null,
   "metadata": {},
   "outputs": [],
   "source": []
  },
  {
   "cell_type": "markdown",
   "metadata": {},
   "source": [
    "## 7.2.5\n",
    "Plot again the 6 distributions, highlighting the mean and the region included in one standard deviation ([$\\mu-\\sigma,\\mu+\\sigma$]) , ( you can use axvline and axvspan ).\n",
    "\n",
    "Recalling from theory that:\n",
    "<ul>\n",
    "<li>M3 (Skewness) is a symmetry index if M3=0 if the distribution is symmetric\n",
    "\n",
    "<li>M4 (Kourtosis) is a measure for tail contribution (high exponents favor large x-μ values)\n",
    "\n",
    "<li> Skewness and Kourosis are normalized by the standard deviation .\n",
    "</ul>\n",
    "\n",
    "Reply to the following questions:\n",
    "<ul>\n",
    "<li> Which distribution has the highest and which the lowest skewness? How this correlates with the shape of the plots?\n",
    "<li>Which distribution has the highest and which the lowest kourtosis? How this correlates with the shape of the plots?\n",
    "</ul>"
   ]
  },
  {
   "cell_type": "code",
   "execution_count": null,
   "metadata": {},
   "outputs": [],
   "source": []
  }
 ],
 "metadata": {
  "kernelspec": {
   "display_name": "Python 3 (ipykernel)",
   "language": "python",
   "name": "python3"
  },
  "language_info": {
   "codemirror_mode": {
    "name": "ipython",
    "version": 3
   },
   "file_extension": ".py",
   "mimetype": "text/x-python",
   "name": "python",
   "nbconvert_exporter": "python",
   "pygments_lexer": "ipython3",
   "version": "3.8.12"
  }
 },
 "nbformat": 4,
 "nbformat_minor": 4
}
