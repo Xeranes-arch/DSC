{
 "cells": [
  {
   "cell_type": "markdown",
   "metadata": {},
   "source": [
    "### 11. Basic Fourier Transform \n",
    "\n",
    "In this exercise, you are going to implement and plot numerical Fourier transform, as well as numerical inverse Fourier transform. You may use modules like `numpy` to handle operations on complex numbers and arrays, but the Fourier transform and its inverse must both be coded from scratch.\n",
    "\n",
    "1. Define a function $f(x)$. Create arrays with $n = \\{10, 50, 100\\}$ points $\\in [-\\pi; \\pi]$ and visualize $f(x)$ for all three cases.\n",
    "\n",
    "$$\n",
    "f(x)= \\sin(x) + 2\\cos(2x) + 2\\sin(3x).\n",
    "$$\n",
    "\n",
    "\n"
   ]
  },
  {
   "cell_type": "code",
   "execution_count": null,
   "metadata": {},
   "outputs": [],
   "source": []
  },
  {
   "cell_type": "markdown",
   "metadata": {},
   "source": [
    "2. Define a function `FourierTrafo()` which takes in an $f$-array $\\{f_0, f_1, ..., f_{N-1}\\}$, and returns a Fourier-transformed array of values $f^{\\ast} = \\{f^{\\ast}_0, f^{\\ast}_1, ..., f^{\\ast}_{N-1} \\}$. The following equation must be satisfied:\n",
    "\n",
    "$$\n",
    "f^{\\ast}_k = \\sum_{l=0}^{N-1} f_l \\cdot e^{-\\frac{2\\pi i}{N} \\cdot k \\cdot l} \n",
    "$$\n"
   ]
  },
  {
   "cell_type": "code",
   "execution_count": null,
   "metadata": {},
   "outputs": [],
   "source": []
  },
  {
   "cell_type": "markdown",
   "metadata": {},
   "source": [
    "\n",
    "3. Define a function `InverseFourierTrafo()` which takes in an $f^{\\ast}$-array $\\{f^{\\ast}_0, f^{\\ast}_1, ..., f^{\\ast}_{N-1}\\}$, and returns an inverse-Fourier-transformed array of values $f = \\{f_0, f_1, ..., f_{N-1} \\}$. The following equation must be satisfied:\n",
    "\n",
    "$$\n",
    "f_k = \\frac{1}{N}\\sum_{l=0}^{N-1} f^{\\ast}_l \\cdot e^{\\frac{2\\pi i}{N} \\cdot k \\cdot l} \n",
    "$$\n"
   ]
  },
  {
   "cell_type": "code",
   "execution_count": null,
   "metadata": {},
   "outputs": [],
   "source": []
  },
  {
   "cell_type": "markdown",
   "metadata": {},
   "source": [
    "\n",
    "4. Compute the Fourier transform $f^{\\ast}$ for your function values. Then, for the resulting array $f^{\\ast}$, compute the inverse Fourier transform $f^{\\prime}$. Compute the Euclidean-2 norm $\\| f - f^{\\prime} \\|$. "
   ]
  },
  {
   "cell_type": "code",
   "execution_count": null,
   "metadata": {},
   "outputs": [],
   "source": []
  },
  {
   "cell_type": "markdown",
   "metadata": {},
   "source": [
    "5. Plot $f^{\\prime}$ and $f^{\\ast}$ into two subplots for all 3 values of $n$ (think carefully which values to use on your $x$-axis when plotting $f^{\\ast}$), and label your graphs properly. \n"
   ]
  },
  {
   "cell_type": "code",
   "execution_count": null,
   "metadata": {},
   "outputs": [],
   "source": []
  },
  {
   "cell_type": "markdown",
   "metadata": {},
   "source": [
    "\n",
    "6. Explain the results and give an interpretation. Hint: You can look at the documentation for `numpy.fft.fftfreq` by calling `help(numpy.fft.fftfreq)`, if you are unsure about which x-axis values to use for the Fourier-transformed function values. To be clear: Do not use the `numpy.fft` for this task, but you can look at its individual function documentations to find out more about what you want to do."
   ]
  },
  {
   "cell_type": "code",
   "execution_count": null,
   "metadata": {},
   "outputs": [],
   "source": []
  },
  {
   "cell_type": "markdown",
   "metadata": {},
   "source": [
    "### 12. Filtering noise.\n",
    "\n",
    "In this exercise, you are going to \"clean\" some rather noisy data and extract the underlying function.\n",
    "\n",
    "1. Read the data from `ex14_data.csv`, which can be found on Moodle, store it in an array and visualize the data."
   ]
  },
  {
   "cell_type": "code",
   "execution_count": null,
   "metadata": {},
   "outputs": [],
   "source": []
  },
  {
   "cell_type": "markdown",
   "metadata": {},
   "source": [
    "2. Check if your $x$-data is equidistant, and then use `numpy.fft` to calculate the Fourier transform $f^{\\ast}$. Plot $f^{\\ast}$ with the aid of `numpy.fft.fftfreq`."
   ]
  },
  {
   "cell_type": "code",
   "execution_count": null,
   "metadata": {},
   "outputs": [],
   "source": []
  },
  {
   "cell_type": "markdown",
   "metadata": {},
   "source": [
    "3. Have a look at the plot of $f^{\\ast}$ and define a threshold $\\epsilon$ such that you set any values where $\\textrm{abs}(x^{\\ast}) > \\epsilon$ to $0$. Compute the inverse Fourier transform of your modified data (use `numpy.fft.ifft`, for example). Generate another plot showing the noisy data and the filtered data and their corresponding Fourier transforms for different values of $\\epsilon$."
   ]
  },
  {
   "cell_type": "code",
   "execution_count": null,
   "metadata": {},
   "outputs": [],
   "source": []
  },
  {
   "cell_type": "markdown",
   "metadata": {},
   "source": [
    "4. What is a good choice for $\\epsilon$?"
   ]
  },
  {
   "cell_type": "code",
   "execution_count": null,
   "metadata": {},
   "outputs": [],
   "source": []
  },
  {
   "cell_type": "markdown",
   "metadata": {},
   "source": [
    "$\\textbf{Note:}$ When comparing the run time of your own Fourier Transform to the one in this exercise, you might notice a significant speed increase. Here, we have been using Fast Fourier Transform (FFT), which indeed significantly outperforms the hard-coded Fourier Transform we have employed in the prior exercise."
   ]
  }
 ],
 "metadata": {
  "kernelspec": {
   "display_name": "Python 3 (ipykernel)",
   "language": "python",
   "name": "python3"
  },
  "language_info": {
   "codemirror_mode": {
    "name": "ipython",
    "version": 3
   },
   "file_extension": ".py",
   "mimetype": "text/x-python",
   "name": "python",
   "nbconvert_exporter": "python",
   "pygments_lexer": "ipython3",
   "version": "3.8.16"
  }
 },
 "nbformat": 4,
 "nbformat_minor": 4
}
