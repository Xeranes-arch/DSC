{
 "cells": [
  {
   "cell_type": "markdown",
   "id": "1e13e0f0-25c6-46a8-8560-d0aa12e3807a",
   "metadata": {},
   "source": [
    "# Exercise 7 Force computation with Lennard-Jones:\n",
    "\n",
    "The Lennard-Jones potential $U_{LJ}(\\vec{r}_{ab})$ can be used to compute pairwise interactions between molecular beads $a$ and $b$ in a molecular-dynamics simulation.\n",
    "\n",
    "\\begin{equation}\n",
    "U_{LJ}(\\vec{r}_{ab}) = 4\\epsilon \\left(\\left[\\frac{\\sigma}{r_{ab}}\\right]^{12} - \\left[\\frac{\\sigma}{r_{ab}}\\right]^6 \\right)\n",
    "\\label{eq:lj}\n",
    "\\end{equation}\n",
    "\n",
    "Where $\\vec{r}_{ab}=\\vec{r}_{b}-\\vec{r}_{a}$. For this exercise, assume $\\epsilon = \\sigma = 1.0$. Remember that $\\vec{F} = -\\nabla U$. The calculated forces should be repulsive for distances smaller than $\\sqrt[6]{2} \\sigma$, attractive for larger distances. \\textbf{Note:} Molecular dynamics typically are too computation-heavy to be performed in Python, but plotting potentials and resulting forces is a common enough task.\n",
    "\n",
    "\n",
    "Perform the following tasks:\n",
    "\n",
    "\n",
    "1. Write a function that takes the distance of two particles (*a* and *b*) in $\\mathbb{R}^3$ as input and returns $U_{LJ}$. The particles should be no closer than $0.01\\sigma$. Check that this is indeed the case (use an assert statement).\n",
    "2. Write in a Markdown cell an explanation for why a check like this might be important. The value of $0.01\\sigma$ is arbitrary, but can you think about a case that might cause problems?\n",
    "3. Write a function that computes the force magnitude acting on particles at distance $r$, from a numerical derivative of $U(r)$. Do so by using $\\texttt{scipy.misc.derivative}$ to compute the derivative of the potential. Hint: Guidelines to import scipy modules can be found at: \"https://docs.scipy.org/doc/scipy/reference/\"\n",
    "4. $\\texttt{scipy.misc.derivative}$ takes an argument $\\texttt{dx}$. Write in a Markdown cell an explanation for why you should pay attention to this parameter. \n",
    "6. Plot $10*U_{LJ}(r)$ and $F_{LJ}(r)$ in a proper range ([1,2] should be fine), draw an horizontal line at 0, and a vertical line at the potential energy minimum. Hint: Use scipy.optimize.minimize\n"
   ]
  },
  {
   "cell_type": "code",
   "execution_count": null,
   "id": "d8803f6a-ffd3-4b73-bdff-83ff5c1d2e26",
   "metadata": {},
   "outputs": [],
   "source": []
  },
  {
   "cell_type": "markdown",
   "id": "0cd0c032-c655-426a-ad16-bc5811b2d30a",
   "metadata": {},
   "source": [
    "# Exercise 8 Mass-Spring system with dampening\n",
    "\n",
    "Assume you are given a point-mass $m$ hanging off the ceiling from a spring with spring constant $k$. Gravity will act on it, and, depending on the initial position $x$, it will bounce up and down. Assume here that $x$ is the perturbation from its resting length, with positive $x$ meaning that the spring is extended, and negative $x$ that the spring is shortened.\n",
    "The corresponding differential equation looks as follows:\n",
    "\n",
    "\\begin{equation}\n",
    "\t\\ddot{x} = -\\left(\\frac{b}{m}\\right)\\dot{x} -\\left(\\frac{k}{m}\\right) x + g\n",
    "\\end{equation}   \n",
    "\n",
    "Take care of the following tasks:\n",
    "\n",
    "1. Set all parameters of the system ($x_0, \\dot{x}_0, m, k, b$) according to: \\\\\n",
    "\t$x_0 = 0.0, \\dot{x}_0 = 0.0, m=1.0, k=10.0$ and $b = [-0.2, 0.0, 0.2]$.\\\\\n",
    "    $g \\cong 9.81$ is the gravitational pull. \n",
    "2. Using $\\texttt{scipy.integrate.odeint}$, solve the differential equation for $x(t)$ and $\\dot{x}(t)$ for $t \\in [0; 15.0]$ for all three different values of $b$. Hint: You can pass a list $[x_0, \\dot{x}_0]$ int $\\texttt{scipy.integrate.odeint}$ instead of a single starting value $x_0$. If you do so, the function you plug in must take in a list $[x, \\dot{x}]$ and return a list $[\\dot{x}, \\ddot{x}]$ as well. In fact, you can return $[\\dot{x}_{new}, \\ddot{x}_{new}]$ in this form for the updated values. $\\texttt{odeint}$ will then return a list $\\textrm{state}$ such that $x = \\textrm{state}[:,0]$ and $\\dot{x} = \\textrm{state}[:,1]$. See below for a possible example.\n",
    "3. Identify the influence of $b$ upon the system by plotting $x(t)$ and $\\dot{x}(t)$ for $t \\in [0; 15.0]$ into their own separate subplots. Give your recount of what $b$ does."
   ]
  },
  {
   "cell_type": "code",
   "execution_count": null,
   "id": "883dc07a-74d2-41a5-a2e1-b5ee9265eb9e",
   "metadata": {},
   "outputs": [],
   "source": [
    "# def mass_spring(state, t, ...):\n",
    "#     x = state[0]\n",
    "#     dx = state[1]\n",
    "#     # compute dx, ddx\n",
    "#     return [dx, ddx]"
   ]
  }
 ],
 "metadata": {
  "kernelspec": {
   "display_name": "Python 3 (ipykernel)",
   "language": "python",
   "name": "python3"
  },
  "language_info": {
   "codemirror_mode": {
    "name": "ipython",
    "version": 3
   },
   "file_extension": ".py",
   "mimetype": "text/x-python",
   "name": "python",
   "nbconvert_exporter": "python",
   "pygments_lexer": "ipython3",
   "version": "3.9.4"
  }
 },
 "nbformat": 4,
 "nbformat_minor": 5
}
