{
 "cells": [
  {
   "cell_type": "markdown",
   "id": "7a7c034f-0098-4593-acb8-eb0a5753b236",
   "metadata": {},
   "source": [
    "### Exercise 4\n",
    "Timing numpy. (8P) \n",
    "\n",
    "Measure and compare the time it takes for the numpy-implementations of array- and matrix operations and your own custom operations on lists. When you run your program, it should take care of the following tasks:\n",
    "\n",
    "\n",
    "1. Implement custom linear algebra functions, operating on Python lists as vectors: \n",
    "    - a 3D cross product\n",
    "\t- a scalar product\n",
    "\t- an element by element product of two vectors\n",
    "\t- sum of two vectors\n",
    "\t- a matrix-matrix multiplication (expressing matrices as list of lists) \n",
    "\n",
    "2. Check the correct functionality of all your functions with some small random generated lists (ideally with simple $3 \\times 3$ matrices and arrays of length $3$). Print as a proof of correctness the results compared to the numpy-internal methods, compare the results using the numpy.allclose function. Look at how lists can be transformed into arrays and vice-versa.\n",
    "\t\n",
    "3. For a set of array lengths $\\{10^3, 10^4, 10^5, 10^6\\}$ and $n\\times n$-matrices with $n=\\{30, 50, 70, 90\\}$, fill the given arrays and matrices with random numbers between $0$ and $1$. Hint: Look into numpy.array and numpy.random. \n",
    "4. Compare the performance of your own custom functions (all except the cross product) to the performance of the same numpy built-in functionality when operating on the previously defined set of arrays and matrices of different sizes. Make sure to run these operations several times repeatedly, and then average over the complete time. Hint: Import the time library or use the %timeit command in jupyter. You can find an exemplary visualization in the assignment pdf."
   ]
  },
  {
   "cell_type": "code",
   "execution_count": null,
   "id": "e7168e01-4a63-4c5c-a22c-3be6af456e7d",
   "metadata": {},
   "outputs": [],
   "source": []
  },
  {
   "cell_type": "markdown",
   "id": "4fddf767-70d0-4a89-bdf8-8a0d532b0018",
   "metadata": {},
   "source": [
    "### Exercise 5\n",
    "\n",
    "Principal Component Analysis. (6P)\n",
    "\n",
    "Download the file ex5_pca.xyz. \n",
    "In it, you will find the configuration of a ring polymer. \n",
    "It is probably helpful to look into numpy for this exercise. Take care of the following tasks:\n",
    "\n",
    "1. Read in the bead coordinates from the .xyz file.\n",
    "2. Calculate $\\vec{r}_{CM}$ (the polymer's center-of-mass), all the beads have the same mass.\n",
    "3. Compute and print the gyration tensor  of the polymer ring: \n",
    "$\\hat{G}_{\\alpha\\beta} = 1/N \\cdot \\sum_{i=1}^{N} \\vec{s}_{i,\\alpha} \\cdot \\vec{s}_{i,\\beta}$ (where $\\vec{s}_{i,\\alpha} = (\\vec{r}_i - \\vec{r}_{CM})_{\\alpha}$ ) \n",
    "4. Compute the polymer's radius of gyration $R_g$ (the sum of diagonal elements of $\\hat{G}$ is $R_g^2$) and print it.\n",
    "5. Use numpy and numpy.linalg to perform a principal component analysis on the polymer ring, and print Eigenvalues and corresponding Eigenvectors from highest to lowest.\n",
    "6.  Write down in a Markdown cell a conclusion about the orientation of the ring in space. What can the Eigenvalues tell you about its overall shape? Visualizing the 3D coordinates of the polymer might help to draw conclusions, but is optional."
   ]
  },
  {
   "cell_type": "code",
   "execution_count": null,
   "id": "f257e65d-f647-4609-9892-673cbcd59431",
   "metadata": {},
   "outputs": [],
   "source": []
  },
  {
   "cell_type": "markdown",
   "id": "5ee11a6e-24ed-429b-bd28-6d87214239ba",
   "metadata": {},
   "source": [
    "### Exercise 6\n",
    "\n",
    "Solving equation systems. (4P)\n",
    "\n",
    "Download the file ex6_eqSystem.dat. \n",
    "The file includes four matrices and vectors in the following scheme: The first m columns belong to an $n\\times m$ matrix A, the last column to an array B with $n$ elements. Hint: You may want to look into numpy.linalg for this task. \n",
    "\n",
    "Optimize the equation system $A \\cdot x = b$, performing the following tasks for all four equation systems:\n",
    "\n",
    "1. Read in the configurations. Hint: Use rstrip(\"\\n\") to get rid of trailing newlines. Also, all matrices have the same number of columns.\n",
    "2. Compute and print the least-square solution $x$ for $A \\cdot x = b$.\n",
    "3. If the solution of the system is unique, the program should tell the user so by printing out a fitting statement.\n",
    "4. Compute and print the Euclidean-2 norm of the system, i.e. $\\parallel b-(A \\cdot x)\\parallel_2$."
   ]
  },
  {
   "cell_type": "code",
   "execution_count": null,
   "id": "6c8df498-09c4-4092-b260-5a36b38f9284",
   "metadata": {},
   "outputs": [],
   "source": []
  }
 ],
 "metadata": {
  "kernelspec": {
   "display_name": "Python 3",
   "language": "python",
   "name": "python3"
  },
  "language_info": {
   "codemirror_mode": {
    "name": "ipython",
    "version": 3
   },
   "file_extension": ".py",
   "mimetype": "text/x-python",
   "name": "python",
   "nbconvert_exporter": "python",
   "pygments_lexer": "ipython3",
   "version": "3.9.12"
  }
 },
 "nbformat": 4,
 "nbformat_minor": 5
}
