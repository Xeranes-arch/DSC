{
 "cells": [
  {
   "cell_type": "markdown",
   "id": "7a7c034f-0098-4593-acb8-eb0a5753b236",
   "metadata": {},
   "source": [
    "### Exercise 4\n",
    "Timing numpy. (8P) \n",
    "\n",
    "Measure and compare the time it takes for the numpy-implementations of array- and matrix operations and your own custom operations on lists. When you run your program, it should take care of the following tasks:\n",
    "\n",
    "\n",
    "1. Implement custom linear algebra functions, operating on Python lists as vectors: \n",
    "    - a 3D cross product\n",
    "\t- a scalar product\n",
    "\t- an element by element product of two vectors\n",
    "\t- sum of two vectors\n",
    "\t- a matrix-matrix multiplication (expressing matrices as list of lists) \n",
    "\n",
    "2. Check the correct functionality of all your functions with some small random generated lists (ideally with simple $3 \\times 3$ matrices and arrays of length $3$). Print as a proof of correctness the results compared to the numpy-internal methods, compare the results using the numpy.allclose function. Look at how lists can be transformed into arrays and vice-versa.\n",
    "\t\n",
    "3. For a set of array lengths $\\{10^3, 10^4, 10^5, 10^6\\}$ and $n\\times n$-matrices with $n=\\{30, 50, 70, 90\\}$, fill the given arrays and matrices with random numbers between $0$ and $1$. Hint: Look into numpy.array and numpy.random. \n",
    "4. Compare the performance of your own custom functions (all except the cross product) to the performance of the same numpy built-in functionality when operating on the previously defined set of arrays and matrices of different sizes. Make sure to run these operations several times repeatedly, and then average over the complete time. Hint: Import the time library or use the %timeit command in jupyter. You can find an exemplary visualization in the assignment pdf."
   ]
  },
  {
   "cell_type": "code",
   "execution_count": 1738,
   "id": "715f3a7d",
   "metadata": {},
   "outputs": [],
   "source": [
    "import random\n",
    "import numpy as np\n",
    "from time import time\n",
    "import matplotlib.pyplot as plt"
   ]
  },
  {
   "cell_type": "code",
   "execution_count": 1739,
   "id": "e7168e01-4a63-4c5c-a22c-3be6af456e7d",
   "metadata": {},
   "outputs": [],
   "source": [
    "def crossprod(x, y):\n",
    "    z = [0, 0, 0]\n",
    "    z[0] = (x[1] * y[2] - x[2] * y[1])\n",
    "    z[1] = (x[2] * y[0] - x[0] * y[2])\n",
    "    z[2] = (x[0] * y[1] - x[1] * y[0])\n",
    "    return z\n",
    "\n",
    "def scalarprod(x, y):\n",
    "    s = 0\n",
    "    for i in range(len(x)):\n",
    "        s += x[i] * y[i]\n",
    "    return s\n",
    "\n",
    "def ebeprod(x, y):\n",
    "    e = np.zeros(shape=len(x), dtype=int).tolist()\n",
    "    for i in range(len(x)):\n",
    "        e[i] = x[i] * y[i]\n",
    "    return e\n",
    "\n",
    "def sumvec(x, y):\n",
    "    S = np.zeros(shape=len(x), dtype=int).tolist()\n",
    "    for i in range(len(x)):\n",
    "        S[i] = x[i] + y[i]\n",
    "    return S\n",
    "\n",
    "def matmult(A, B):\n",
    "    C = []\n",
    "    for i in range(len(A)):\n",
    "        Ci = []\n",
    "        for j in range(len(B[0])):\n",
    "            Cij = 0\n",
    "            for k in range(len(B)):\n",
    "                Cij += ((A[i])[k] * (B[k])[j])\n",
    "            Ci.append(Cij)\n",
    "        C.append(Ci)   \n",
    "    return C\n"
   ]
  },
  {
   "cell_type": "code",
   "execution_count": 1740,
   "id": "63fc19b2",
   "metadata": {},
   "outputs": [
    {
     "name": "stdout",
     "output_type": "stream",
     "text": [
      "x =  [6, 6, 6] \n",
      "y =  [2, 0, 8]\n",
      "A =  [[9, 7, 9], [3, 8, 10], [5, 10, 4]] \n",
      "B =  [[3, 7, 4], [5, 5, 9], [3, 8, 4]]\n"
     ]
    }
   ],
   "source": [
    "#Generate x, y\n",
    "x = np.random.randint(0, 10, size=3).tolist()\n",
    "y = np.random.randint(0, 10, size=3).tolist()\n",
    "print(\"x = \", x, \"\\ny = \", y)\n",
    "\n",
    "#Generate A, B\n",
    "A, B = [], []\n",
    "for i in range(3):\n",
    "    l = []\n",
    "    for j in range(3):\n",
    "        l.append(random.randint(0, 10))\n",
    "    A.append(l)\n",
    "\n",
    "for i in range(3):\n",
    "    l = []\n",
    "    for j in range(3):\n",
    "        l.append(random.randint(0, 10))\n",
    "    B.append(l)\n",
    "\n",
    "print(\"A = \", A, \"\\nB = \", B)\n"
   ]
  },
  {
   "cell_type": "code",
   "execution_count": 1741,
   "id": "6abe1631",
   "metadata": {},
   "outputs": [
    {
     "name": "stdout",
     "output_type": "stream",
     "text": [
      "z =  [48, -36, -12] \n",
      "zv =  [48, -36, -12]\n",
      "s =  60 \n",
      "sv =  60\n",
      "e =  [12, 0, 48] \n",
      "ev =  [12, 0, 48]\n",
      "S =  [8, 6, 14] \n",
      "Sv =  [8, 6, 14]\n",
      "C =  [[89, 170, 135], [79, 141, 124], [77, 117, 126]] \n",
      "Cv =  [[89, 170, 135], [79, 141, 124], [77, 117, 126]]\n",
      "True True True True True\n"
     ]
    }
   ],
   "source": [
    "z = crossprod(x, y)\n",
    "zv = np.cross(x, y).tolist()\n",
    "print(\"z = \", z, \"\\nzv = \", zv)\n",
    "\n",
    "s = scalarprod(x, y)\n",
    "sv = np.inner(x, y)\n",
    "print(\"s = \", s, \"\\nsv = \", sv)\n",
    "\n",
    "e = ebeprod(x, y)\n",
    "ev = np.multiply(x, y).tolist()\n",
    "print(\"e = \", e, \"\\nev = \", ev)\n",
    "\n",
    "S = sumvec(x, y)\n",
    "Sv = np.add(x, y).tolist()\n",
    "print(\"S = \", S, \"\\nSv = \", Sv)\n",
    "\n",
    "C = matmult(A, B)\n",
    "Cv = np.matmul(A, B).tolist()\n",
    "print(\"C = \", C, \"\\nCv = \", Cv)\n",
    "\n",
    "print(np.allclose(z, zv),\n",
    "      np.allclose(s, sv),\n",
    "      np.allclose(e, ev),\n",
    "      np.allclose(S, Sv),\n",
    "      np.allclose(C, Cv))"
   ]
  },
  {
   "cell_type": "code",
   "execution_count": 1742,
   "id": "3bb7d9c2",
   "metadata": {},
   "outputs": [],
   "source": [
    "a = [1e3, 1e4, 1e5, 1e6]\n",
    "ln = [int(i) for i in a]\n",
    "n = [30, 50, 70, 90]\n",
    "\n",
    "lvec = []\n",
    "for i in ln:\n",
    "    lvec.append(np.random.random(size = i))\n",
    "lmat = []\n",
    "for i in n:\n",
    "    lmat.append(np.random.random(size = (i, i)))"
   ]
  },
  {
   "cell_type": "code",
   "execution_count": 1743,
   "id": "90aecc31",
   "metadata": {},
   "outputs": [],
   "source": [
    "def measure(f, x, y, n=1):\n",
    "    t = 0\n",
    "    for i in range(n):\n",
    "        t0 = time()\n",
    "        f(x, y)\n",
    "        t += time() - t0\n",
    "    return t/n\n"
   ]
  },
  {
   "cell_type": "code",
   "execution_count": 1744,
   "id": "6d3537f5",
   "metadata": {},
   "outputs": [],
   "source": [
    "# lts, lte, ltS, ltm = [], [], [], []\n",
    "# ltsv, ltev, ltSv, ltmv = [], [], [], []\n",
    "# for i in lvec:\n",
    "#     lts.append(measure(scalarprod, i, i, 10))\n",
    "#     lte.append(measure(ebeprod, i, i, 10))\n",
    "#     ltS.append(measure(sumvec, i, i, 10))\n",
    "# for i in lmat:\n",
    "#     ltm.append(measure(matmult, i, i, 10))\n",
    "\n",
    "# for i in lvec:\n",
    "#     ltsv.append(measure(np.inner, i, i, 2000))\n",
    "#     ltev.append(measure(np.multiply, i, i, 2000))\n",
    "#     ltSv.append(measure(np.add, i, i, 2000))\n",
    "# for i in lmat:\n",
    "#     ltmv.append(measure(np.matmul, i, i, 2000))\n"
   ]
  },
  {
   "cell_type": "code",
   "execution_count": 1745,
   "id": "0f31b08d",
   "metadata": {},
   "outputs": [],
   "source": [
    "# print(lte)\n",
    "\n",
    "# fig, (ax1, ax2) = plt.subplots(1, 2, figsize=(20,10))\n",
    "\n",
    "# ax1.plot(ln, lts, marker = \".\")\n",
    "# ax1.plot(ln, lte, marker=\".\")\n",
    "# ax1.plot(ln, ltS, marker=\".\")\n",
    "# ax1.plot(ln, ltsv, marker=\".\")\n",
    "# ax1.plot(ln, ltev, marker=\".\")\n",
    "# ax1.plot(ln, ltSv, marker=\".\")\n",
    "# ax1.set_xscale(\"log\")\n",
    "# ax1.set_yscale(\"log\")\n",
    "# ax1.set_xlabel(\"length of vector\")\n",
    "# ax1.set_ylabel(\"time in seconds\")\n",
    "# ax1.legend([\"scalar prod\", \"element by element prod\", \"Sum of vectors\",\n",
    "#            \"scalar prod np\", \"element by element prod np\", \"Sum of vectors np\"])\n",
    "\n",
    "# ax2.plot(n, ltm, marker = \".\")\n",
    "# ax2.plot(n, ltmv, marker=\".\")\n",
    "# ax2.set_xscale(\"log\")\n",
    "# ax2.set_yscale(\"log\")\n",
    "# ax2.set_xticks([30, 40, 50, 60, 70, 80, 90])\n",
    "# ax2.set_xticklabels([\"30\", \"\", \"50\", \"\", \"70\", \"\", \"90\"])\n",
    "# ax2.set_xlabel(\"dimension n of matrix\")\n",
    "# ax2.set_ylabel(\"time in seconds\")\n",
    "# ax2.legend([\"matmul\", \"matmul np\"])\n",
    "\n"
   ]
  },
  {
   "cell_type": "markdown",
   "id": "4fddf767-70d0-4a89-bdf8-8a0d532b0018",
   "metadata": {},
   "source": [
    "### Exercise 5\n",
    "\n",
    "Principal Component Analysis. (6P)\n",
    "\n",
    "Download the file ex5_pca.xyz. \n",
    "In it, you will find the configuration of a ring polymer. \n",
    "It is probably helpful to look into numpy for this exercise. Take care of the following tasks:\n",
    "\n",
    "1. Read in the bead coordinates from the .xyz file.\n",
    "2. Calculate $\\vec{r}_{CM}$ (the polymer's center-of-mass), all the beads have the same mass.\n",
    "3. Compute and print the gyration tensor  of the polymer ring: \n",
    "$\\hat{G}_{\\alpha\\beta} = 1/N \\cdot \\sum_{i=1}^{N} \\vec{s}_{i,\\alpha} \\cdot \\vec{s}_{i,\\beta}$ (where $\\vec{s}_{i,\\alpha} = (\\vec{r}_i - \\vec{r}_{CM})_{\\alpha}$ ) \n",
    "4. Compute the polymer's radius of gyration $R_g$ (the sum of diagonal elements of $\\hat{G}$ is $R_g^2$) and print it.\n",
    "5. Use numpy and numpy.linalg to perform a principal component analysis on the polymer ring, and print Eigenvalues and corresponding Eigenvectors from highest to lowest.\n",
    "6.  Write down in a Markdown cell a conclusion about the orientation of the ring in space. What can the Eigenvalues tell you about its overall shape? Visualizing the 3D coordinates of the polymer might help to draw conclusions, but is optional."
   ]
  },
  {
   "cell_type": "code",
   "execution_count": 1746,
   "id": "f257e65d-f647-4609-9892-673cbcd59431",
   "metadata": {},
   "outputs": [],
   "source": [
    "with open(\"ex5_pca.xyz\") as f:\n",
    "    a = f.readlines()\n",
    "    a = a[2:]\n",
    "\n",
    "rawdata = [i.split(\" \") for i in a]\n",
    "\n",
    "#List of lists to ndarray, minus 1.col, minus \\n\n",
    "data = np.array([np.array(i) for i in rawdata])\n",
    "data[:, 2] = [x[:-2] for x in data[:, 2]]\n",
    "data = data[:, 1:].astype(float)"
   ]
  },
  {
   "cell_type": "code",
   "execution_count": 1747,
   "id": "e62f1206",
   "metadata": {},
   "outputs": [
    {
     "name": "stdout",
     "output_type": "stream",
     "text": [
      "[-7.119996999999999, -4.919050000000001, 8.639999500000005]\n"
     ]
    }
   ],
   "source": [
    "rcm = [sum(i)/len(data[:,0]) for i in data.T]\n",
    "print(rcm)"
   ]
  },
  {
   "cell_type": "code",
   "execution_count": 1748,
   "id": "f8a6595b",
   "metadata": {},
   "outputs": [
    {
     "name": "stdout",
     "output_type": "stream",
     "text": [
      "[[ 7.26352680e+01 -1.84755962e+00  8.54574056e-02]\n",
      " [-1.84755962e+00  7.37154526e+01 -1.09234045e-02]\n",
      " [ 8.54574056e-02 -1.09234045e-02  7.23201496e+00]]\n"
     ]
    }
   ],
   "source": [
    "G = np.zeros((len(data[0,:]),len(data[0,:])))\n",
    "\n",
    "for a in range(3):\n",
    "    for b in range(3):\n",
    "        for i in range(len(data)):\n",
    "            G[a, b] += (data[i, a]-rcm[a])*(data[i, b]-rcm[b])/200\n",
    "\n",
    "print(G)\n"
   ]
  },
  {
   "cell_type": "code",
   "execution_count": 1749,
   "id": "bbe11740",
   "metadata": {},
   "outputs": [
    {
     "name": "stdout",
     "output_type": "stream",
     "text": [
      "12.392850179129121\n"
     ]
    }
   ],
   "source": [
    "R = np.sqrt(sum([G[i,i] for i in range(3)]))\n",
    "print(R)"
   ]
  },
  {
   "cell_type": "code",
   "execution_count": 1750,
   "id": "f531f02d",
   "metadata": {},
   "outputs": [
    {
     "name": "stdout",
     "output_type": "stream",
     "text": [
      "EWs: [71.25053658 75.10029677  7.23190221] \n",
      "EVs:\n",
      " [[-8.00173209e-01 -5.99767569e-01 -1.30300136e-03]\n",
      " [-5.99768207e-01  8.00173782e-01  1.28092173e-04]\n",
      " [-9.65801993e-04 -8.83994714e-04  9.99999143e-01]]\n"
     ]
    }
   ],
   "source": [
    "eig = np.linalg.eig(G)\n",
    "print(\"EWs:\", eig[0], \"\\nEVs:\\n\", eig[1])"
   ]
  },
  {
   "cell_type": "markdown",
   "id": "5ee11a6e-24ed-429b-bd28-6d87214239ba",
   "metadata": {},
   "source": [
    "### Exercise 6\n",
    "\n",
    "Solving equation systems. (4P)\n",
    "\n",
    "Download the file ex6_eqSystem.dat. \n",
    "The file includes four matrices and vectors in the following scheme: The first m columns belong to an $n\\times m$ matrix A, the last column to an array B with $n$ elements. Hint: You may want to look into numpy.linalg for this task. \n",
    "\n",
    "Optimize the equation system $A \\cdot x = b$, performing the following tasks for all four equation systems:\n",
    "\n",
    "1. Read in the configurations. Hint: Use rstrip(\"\\n\") to get rid of trailing newlines. Also, all matrices have the same number of columns.\n",
    "2. Compute and print the least-square solution $x$ for $A \\cdot x = b$.\n",
    "3. If the solution of the system is unique, the program should tell the user so by printing out a fitting statement.\n",
    "4. Compute and print the Euclidean-2 norm of the system, i.e. $\\parallel b-(A \\cdot x)\\parallel_2$."
   ]
  },
  {
   "cell_type": "code",
   "execution_count": 1751,
   "id": "6c8df498-09c4-4092-b260-5a36b38f9284",
   "metadata": {},
   "outputs": [
    {
     "name": "stdout",
     "output_type": "stream",
     "text": [
      "['# Matrix A1, Vector b1\\n', '1 2 3 14\\n', '4 5 6 32\\n', '7 8 9 50\\n', '\\n', '# Matrix A2, Vector b2\\n', '1 2 3 14\\n', '4 5 6 32\\n', '7 8 9 60\\n', '\\n', '# Matrix A3, Vector b3\\n', '1 1 1 3\\n', '2 3 1 0\\n', '1 1 3 -1\\n', '\\n', '# Matrix A4, Vector b4\\n', '1 -2 3 0\\n', '1 1 2 -1\\n', '3 1 -1 -1\\n', '2 -1 -1 1']\n",
      "[[[1.0, 2.0, 3.0, 14.0], [4.0, 5.0, 6.0, 32.0], [7.0, 8.0, 9.0, 50.0]], [[1.0, 2.0, 3.0, 14.0], [4.0, 5.0, 6.0, 32.0], [7.0, 8.0, 9.0, 60.0]], [[1.0, 1.0, 1.0, 3.0], [2.0, 3.0, 1.0, 0.0], [1.0, 1.0, 3.0, -1.0]], [[1.0, -2.0, 3.0, 0.0], [1.0, 1.0, 2.0, -1.0], [3.0, 1.0, -1.0, -1.0], [2.0, -1.0, -1.0, 1.0]]]\n",
      "[[1. 2. 3.]\n",
      " [4. 5. 6.]\n",
      " [7. 8. 9.]] [14. 32. 50.]\n",
      "[[1. 2. 3.]\n",
      " [4. 5. 6.]\n",
      " [7. 8. 9.]] [14. 32. 60.]\n",
      "[[1. 1. 1.]\n",
      " [2. 3. 1.]\n",
      " [1. 1. 3.]] [ 3.  0. -1.]\n",
      "[[ 1. -2.  3.]\n",
      " [ 1.  1.  2.]\n",
      " [ 3.  1. -1.]\n",
      " [ 2. -1. -1.]] [ 0. -1. -1.  1.]\n",
      "x3: [13. -8. -2.]\n",
      "All other problems are not solvable.\n"
     ]
    }
   ],
   "source": [
    "with open(\"ex6_eqSystem.dat\") as f:\n",
    "    raw = f.readlines()\n",
    "\n",
    "print(raw)\n",
    "\n",
    "S = []\n",
    "for j in range(3):\n",
    "    S.append([i.rstrip(\"\\n\") for i in raw[1+5*j:4+5*j]])\n",
    "S.append([i.rstrip(\"\\n\") for i in raw[16:]])\n",
    "\n",
    "for i in range(len(S)):\n",
    "    S[i] = [j.split(\" \") for j in S[i]]\n",
    "\n",
    "for j in S:\n",
    "    for i in range(len(j)):\n",
    "        j[i] = [float(x) for x in j[i]]\n",
    "\n",
    "print(S)\n",
    "\n",
    "S1 = np.array([np.array(i) for i in S[0]])[:, 0:3]\n",
    "S2 = np.array([np.array(i) for i in S[1]])[:, 0:3]\n",
    "S3 = np.array([np.array(i) for i in S[2]])[:, 0:3]\n",
    "S4 = np.array([np.array(i) for i in S[3]])[:, 0:3]\n",
    "b1 = np.array([np.array(i) for i in S[0]])[:, 3]\n",
    "b2 = np.array([np.array(i) for i in S[1]])[:, 3]\n",
    "b3 = np.array([np.array(i) for i in S[2]])[:, 3]\n",
    "b4 = np.array([np.array(i) for i in S[3]])[:, 3]\n",
    "print(S1, b1)\n",
    "print(S2, b2)\n",
    "print(S3, b3)\n",
    "print(S4, b4)\n",
    "try:\n",
    "    x1 = np.linalg.solve(S1,b1)\n",
    "    print(\"x1:\", x1)\n",
    "except:\n",
    "    pass\n",
    "try:\n",
    "    x2 = np.linalg.solve(S2, b2)\n",
    "    print(\"x2:\", x2)\n",
    "except:\n",
    "    pass\n",
    "try:\n",
    "    x3 = np.linalg.solve(S3,b3)\n",
    "    print(\"x3:\", x3)\n",
    "except:\n",
    "    pass\n",
    "try:\n",
    "    x4 = np.linalg.solve(S4, b4)\n",
    "    print(\"x4:\", x4)\n",
    "except:\n",
    "    print(\"All other problems are not solvable.\")\n"
   ]
  }
 ],
 "metadata": {
  "kernelspec": {
   "display_name": "Python 3",
   "language": "python",
   "name": "python3"
  },
  "language_info": {
   "codemirror_mode": {
    "name": "ipython",
    "version": 3
   },
   "file_extension": ".py",
   "mimetype": "text/x-python",
   "name": "python",
   "nbconvert_exporter": "python",
   "pygments_lexer": "ipython3",
   "version": "3.9.4"
  }
 },
 "nbformat": 4,
 "nbformat_minor": 5
}
