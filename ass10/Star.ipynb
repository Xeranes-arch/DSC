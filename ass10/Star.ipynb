{
 "cells": [
  {
   "attachments": {},
   "cell_type": "markdown",
   "metadata": {},
   "source": [
    "## Classification of Stars \n",
    "In this exercise we are going to adapt the previously provided code to work on a comparatively small dataset of star measurements from [Kaggle](https://www.kaggle.com/deepu1109/star-dataset). From just four measurements (Temperature, Luminosity, Radius, Absolute magnitude), we will try to predict the star type (Browm Dwarf, Red Dwarf, White Dwarf, Main Sequence, Supergiant, Hypergiant) by using a Feedforward Neural Network architecture that was trained on 200 measurements. By determining hyperparameters we will optimize our model before we will test the generalization of the model to not seen instances."
   ]
  },
  {
   "cell_type": "code",
   "execution_count": 3,
   "metadata": {},
   "outputs": [],
   "source": [
    "import torch\n",
    "import numpy as np\n",
    "import pandas as pd\n",
    "import seaborn as sns\n",
    "import matplotlib.pyplot as plt\n",
    "import matplotlib.pyplot as plt\n",
    "\n",
    "import torch.nn.functional as F\n",
    "\n",
    "from torch import nn, tensor, relu, tanh, optim\n",
    "from torchvision import datasets, transforms\n",
    "from torchvision.io import read_image\n",
    "from torch.utils.data import Dataset\n",
    "from sklearn.preprocessing import LabelEncoder\n",
    "from sklearn.metrics import confusion_matrix"
   ]
  },
  {
   "cell_type": "code",
   "execution_count": 4,
   "metadata": {},
   "outputs": [],
   "source": [
    "# print(torch.cuda.is_available())\n",
    "# print(torch.version.cuda)\n",
    "\n",
    "# cuda_id = torch.cuda.current_device()\n",
    "\n",
    "# print(torch.cuda.current_device())\n",
    "       \n",
    "# print({torch.cuda.get_device_name(cuda_id)})"
   ]
  },
  {
   "cell_type": "code",
   "execution_count": 5,
   "metadata": {},
   "outputs": [
    {
     "name": "stdout",
     "output_type": "stream",
     "text": [
      "Using cpu device\n"
     ]
    }
   ],
   "source": [
    "device = \"cuda\" if torch.cuda.is_available() else \"cpu\"\n",
    "print(f\"Using {device} device\")"
   ]
  },
  {
   "attachments": {},
   "cell_type": "markdown",
   "metadata": {},
   "source": [
    "### Class Dataset"
   ]
  },
  {
   "cell_type": "code",
   "execution_count": 6,
   "metadata": {},
   "outputs": [],
   "source": [
    "class CustomDataset(Dataset):\n",
    "    def __init__(self, data, labels):\n",
    "        self.data = data\n",
    "        self.label_encoder = LabelEncoder()\n",
    "        self.labels = self.label_encoder.fit_transform(labels)\n",
    "\n",
    "    def __len__(self):\n",
    "        return len(self.data)\n",
    "\n",
    "    def __getitem__(self, index):\n",
    "        star_attributes = torch.Tensor(self.data[index])\n",
    "        star_label = torch.Tensor([self.labels[index]])\n",
    "        \n",
    "        return star_attributes, star_label"
   ]
  },
  {
   "attachments": {},
   "cell_type": "markdown",
   "metadata": {},
   "source": [
    "### Class nNet"
   ]
  },
  {
   "cell_type": "code",
   "execution_count": 7,
   "metadata": {},
   "outputs": [],
   "source": [
    "class Star_Net(nn.Module):\n",
    "    def __init__(self):\n",
    "        super(Star_Net, self).__init__()\n",
    "        self.fc1 = nn.Linear(4,16)\n",
    "        self.fc2 = nn.Linear(16,7)\n",
    "        \n",
    "        # Convert weight tensor to float\n",
    "        self.fc1.weight.data = self.fc1.weight.data.float()\n",
    "        self.fc2.weight.data = self.fc2.weight.data.float()\n",
    "\n",
    "    def forward(self, x):\n",
    "        x = F.relu(self.fc1(x.to(self.fc1.weight.dtype)))\n",
    "        x = self.fc2(x)\n",
    "        return F.log_softmax(x, dim=1)"
   ]
  },
  {
   "attachments": {},
   "cell_type": "markdown",
   "metadata": {},
   "source": [
    "### Rescale"
   ]
  },
  {
   "cell_type": "code",
   "execution_count": 8,
   "metadata": {},
   "outputs": [],
   "source": [
    "def rescale(x):\n",
    "    min_vals = np.min(x, axis=0)\n",
    "    max_vals = np.max(x, axis=0)\n",
    "    return (x - min_vals) / (max_vals - min_vals)"
   ]
  },
  {
   "attachments": {},
   "cell_type": "markdown",
   "metadata": {},
   "source": [
    "### Show performance function"
   ]
  },
  {
   "cell_type": "code",
   "execution_count": 9,
   "metadata": {},
   "outputs": [],
   "source": [
    "def show_perform(epoch, model, train_loader, test_loader):\n",
    "    # Get predicted labels for training set\n",
    "    predicted_train_labels = []\n",
    "    for inputs, _ in train_loader:\n",
    "        inputs = inputs.to(device)\n",
    "        outputs = model(inputs)\n",
    "        _, predicted = torch.max(outputs, 1)\n",
    "        predicted_train_labels.extend(predicted.cpu().numpy())\n",
    "\n",
    "    # Get predicted labels for testing set\n",
    "    predicted_test_labels = []\n",
    "    for inputs, _ in test_loader:\n",
    "        inputs = inputs.to(device)\n",
    "        outputs = model(inputs)\n",
    "        _, predicted = torch.max(outputs, 1)\n",
    "        predicted_test_labels.extend(predicted.cpu().numpy())\n",
    "\n",
    "    # Convert the true labels to numpy arrays\n",
    "    true_train_labels = np.array(train_loader.dataset.labels)\n",
    "    true_test_labels = np.array(test_loader.dataset.labels)\n",
    "\n",
    "    # Compute the confusion matrices\n",
    "    train_cm = confusion_matrix(true_train_labels, predicted_train_labels)\n",
    "    test_cm = confusion_matrix(true_test_labels, predicted_test_labels)\n",
    "\n",
    "    if (train_cm.shape)[0] == 6:\n",
    "        train_cm = np.concatenate([train_cm, np.zeros((6,1), int)], axis=1)\n",
    "        train_cm = np.concatenate([train_cm, np.zeros((1,7), int)], axis=0)\n",
    "\n",
    "    if (test_cm.shape)[0] == 6:\n",
    "            test_cm = np.concatenate([test_cm, np.zeros((6,1), int)], axis=1)\n",
    "            test_cm = np.concatenate([test_cm, np.zeros((1,7), int)], axis=0)\n",
    "\n",
    "    # Visualize the confusion matrices\n",
    "    plt.figure(figsize=(10, 5))\n",
    "    plt.title(epoch)\n",
    "    plt.subplot(1, 2, 1)\n",
    "    sns.heatmap(train_cm, annot=True, fmt=\"d\", cmap=\"Blues\")\n",
    "    plt.title(\"Training Set Confusion Matrix\")\n",
    "    ax = plt.gca()\n",
    "    ax.set_xticklabels([\"A\", \"B\", \"F\", \"G\", \"M\", \"K\", \"O\"])\n",
    "    ax.set_yticklabels([\"A\", \"B\", \"F\", \"G\", \"M\", \"K\", \"O\"])\n",
    "    plt.xlabel(\"Predicted Label\")\n",
    "    plt.ylabel(\"True Label\")\n",
    "\n",
    "    plt.subplot(1, 2, 2)\n",
    "    sns.heatmap(test_cm, annot=True, fmt=\"d\", cmap=\"Blues\")\n",
    "    plt.title(\"Testing Set Confusion Matrix\")\n",
    "    ax = plt.gca()\n",
    "    ax.set_xticklabels([\"A\", \"B\", \"F\", \"G\", \"M\", \"K\", \"O\"])\n",
    "    ax.set_yticklabels([\"A\", \"B\", \"F\", \"G\", \"M\", \"K\", \"O\"])\n",
    "    plt.xlabel(\"Predicted Label\")\n",
    "    plt.ylabel(\"True Label\")\n",
    "\n",
    "    plt.tight_layout()\n",
    "    plt.show()"
   ]
  },
  {
   "attachments": {},
   "cell_type": "markdown",
   "metadata": {},
   "source": [
    "### Train and Evaluate functions"
   ]
  },
  {
   "cell_type": "code",
   "execution_count": 10,
   "metadata": {},
   "outputs": [],
   "source": [
    "def train(model, train_loader, optimizer, loss_function):\n",
    "    model.train()\n",
    "    loss_values = []\n",
    "\n",
    "    for inputs, labels in train_loader:\n",
    "        inputs = inputs.to(device).float()  # Convert input tensor to float\n",
    "        labels = labels.squeeze().to(device).long()\n",
    "\n",
    "        optimizer.zero_grad()\n",
    "        outputs = model(inputs)\n",
    "        loss = loss_function(outputs, labels)\n",
    "        loss.backward()\n",
    "        optimizer.step()\n",
    "\n",
    "        loss_values.append(loss.item())\n",
    "\n",
    "    return loss_values\n",
    "\n",
    "\n",
    "def evaluate(model, test_loader, loss_function):\n",
    "    model.eval()\n",
    "    loss_test = []\n",
    "    correct = 0\n",
    "\n",
    "    with torch.no_grad():\n",
    "        for inputs, labels in test_loader:\n",
    "            inputs, labels = inputs.to(device), labels.squeeze().long().to(device)\n",
    "            inputs = inputs.to(device, dtype=torch.float32)\n",
    "\n",
    "            outputs = model(inputs)\n",
    "\n",
    "            loss = loss_function(outputs, labels)\n",
    "            loss_test.append(loss.item())\n",
    "            _, predicted = torch.max(outputs.data, 1)\n",
    "            correct += (predicted == labels).sum().item()\n",
    "\n",
    "    accuracy = 100.0 * correct / len(test_loader.dataset)\n",
    "    return loss_test, accuracy"
   ]
  },
  {
   "attachments": {},
   "cell_type": "markdown",
   "metadata": {},
   "source": [
    "### Run function"
   ]
  },
  {
   "cell_type": "code",
   "execution_count": 11,
   "metadata": {},
   "outputs": [],
   "source": [
    "def run(epochs, learning_rate, train_loader, test_loader):\n",
    "\n",
    "    # Set the device to be used (CPU or GPU if available)\n",
    "    device = torch.device(\"cuda\" if torch.cuda.is_available() else \"cpu\")\n",
    "\n",
    "    # Initialize the model\n",
    "    model = Star_Net().to(device)\n",
    "\n",
    "    # Define the optimizer and loss function\n",
    "    optimizer = optim.Adam(model.parameters(), lr=learning_rate)\n",
    "    loss_function = nn.CrossEntropyLoss()\n",
    "\n",
    "    # Initialize lists for plotting\n",
    "    learning_curve_train = []\n",
    "    learning_curve_test = []\n",
    "\n",
    "    # Training loop\n",
    "    for epoch in range(1, epochs + 1):\n",
    "        loss_train = train(model, train_loader, optimizer, loss_function)\n",
    "        loss_test, accuracy = evaluate(model, test_loader, loss_function)\n",
    "\n",
    "        learning_curve_train.append(torch.mean(torch.tensor(loss_train)))\n",
    "        learning_curve_test.append(torch.mean(torch.tensor(loss_test)))\n",
    "\n",
    "        print(\"Epoch: {}\\tTrain loss: {:.4f}\\tTest loss: {:.4f}\\tTest Accuracy: {:.2f}%\".format(\n",
    "            epoch,\n",
    "            learning_curve_train[-1],\n",
    "            learning_curve_test[-1],\n",
    "            accuracy\n",
    "            ))\n",
    "        \n",
    "    show_perform(epoch, model, train_loader, test_loader)\n",
    "\n",
    "    return learning_curve_train, learning_curve_test"
   ]
  },
  {
   "attachments": {},
   "cell_type": "markdown",
   "metadata": {},
   "source": [
    "### Process data"
   ]
  },
  {
   "cell_type": "code",
   "execution_count": 12,
   "metadata": {},
   "outputs": [
    {
     "name": "stdout",
     "output_type": "stream",
     "text": [
      "[2.96629095e-02 2.73127546e-09 2.59099275e-05 3.32796311e-01]\n",
      "[0.28207351 0.5321278  0.01330635 0.33181358]\n"
     ]
    }
   ],
   "source": [
    "df = pd.read_csv(\"star_data.csv\")\n",
    "\n",
    "x = np.array(\n",
    "    df[\n",
    "        [\n",
    "            \"Temperature (K)\",\n",
    "            \"Luminosity(L/Lo)\",\n",
    "            \"Radius(R/Ro)\",\n",
    "            \"Absolute magnitude(Mv)\",\n",
    "        ]\n",
    "    ]\n",
    ")\n",
    "\n",
    "y = np.array(df[\"Spectral Class\"])\n",
    "\n",
    "# Rescale\n",
    "xre = rescale(x)\n",
    "\n",
    "# Shuffle\n",
    "rows = np.arange(xre.shape[0])\n",
    "np.random.shuffle(rows)\n",
    "xsh = xre[rows, :]\n",
    "ysh = y[rows]\n",
    "print(xre[0])\n",
    "print(xsh[0])\n",
    "\n",
    "# Split\n",
    "train_set = tensor(xsh[:200, :])\n",
    "test_set = tensor(xsh[200:, :])\n",
    "train_y = ysh[:200]\n",
    "test_y = ysh[200:]\n",
    "\n",
    "Train_Set = CustomDataset(train_set, train_y)\n",
    "Test_Set = CustomDataset(test_set, test_y)\n",
    "\n",
    "# print(np.unique(train_y, return_counts=True))\n",
    "# print(np.unique(test_y))\n",
    "# random_indices = np.random.choice(len(Train_Set), 5)\n",
    "# for i in Test_Set:\n",
    "#     sample, label = i\n",
    "#     print(\"Input:\", sample)\n",
    "#     print(\"Label:\", label)\n",
    "#     print()\n",
    "\n",
    "train_loader = torch.utils.data.DataLoader(Train_Set, batch_size=2)\n",
    "test_loader = torch.utils.data.DataLoader(Test_Set, batch_size=2)"
   ]
  },
  {
   "cell_type": "code",
   "execution_count": 13,
   "metadata": {},
   "outputs": [
    {
     "name": "stdout",
     "output_type": "stream",
     "text": [
      "Epoch: 1\tTrain loss: 1.8544\tTest loss: 1.8937\tTest Accuracy: 2.50%\n",
      "Epoch: 2\tTrain loss: 1.6500\tTest loss: 1.9487\tTest Accuracy: 2.50%\n",
      "Epoch: 3\tTrain loss: 1.4975\tTest loss: 2.0512\tTest Accuracy: 2.50%\n",
      "Epoch: 4\tTrain loss: 1.4022\tTest loss: 2.1492\tTest Accuracy: 2.50%\n",
      "Epoch: 5\tTrain loss: 1.3369\tTest loss: 2.2261\tTest Accuracy: 2.50%\n",
      "Epoch: 6\tTrain loss: 1.2831\tTest loss: 2.2896\tTest Accuracy: 2.50%\n",
      "Epoch: 7\tTrain loss: 1.2351\tTest loss: 2.3494\tTest Accuracy: 2.50%\n",
      "Epoch: 8\tTrain loss: 1.1915\tTest loss: 2.4071\tTest Accuracy: 7.50%\n",
      "Epoch: 9\tTrain loss: 1.1517\tTest loss: 2.4665\tTest Accuracy: 7.50%\n",
      "Epoch: 10\tTrain loss: 1.1156\tTest loss: 2.5269\tTest Accuracy: 10.00%\n"
     ]
    },
    {
     "name": "stderr",
     "output_type": "stream",
     "text": [
      "C:\\Users\\Xeonis7\\AppData\\Local\\Temp\\ipykernel_7844\\2102932303.py:37: MatplotlibDeprecationWarning: Auto-removal of overlapping axes is deprecated since 3.6 and will be removed two minor releases later; explicitly call ax.remove() as needed.\n",
      "  plt.subplot(1, 2, 1)\n"
     ]
    },
    {
     "data": {
      "image/png": "[encoded data removed]",
      "text/plain": [
       "<Figure size 1000x500 with 4 Axes>"
      ]
     },
     "metadata": {},
     "output_type": "display_data"
    }
   ],
   "source": [
    "ep = 10\n",
    "lr = 0.001\n",
    "\n",
    "learning_curve_train, learning_curve_test = run(ep, lr, train_loader, test_loader)"
   ]
  },
  {
   "attachments": {},
   "cell_type": "markdown",
   "metadata": {},
   "source": [
    "### Visualize"
   ]
  },
  {
   "cell_type": "code",
   "execution_count": 14,
   "metadata": {},
   "outputs": [
    {
     "data": {
      "text/plain": [
       "<matplotlib.legend.Legend at 0x214096b7f10>"
      ]
     },
     "execution_count": 14,
     "metadata": {},
     "output_type": "execute_result"
    },
    {
     "data": {
      "image/png": "[encoded data removed]",
      "text/plain": [
       "<Figure size 640x480 with 1 Axes>"
      ]
     },
     "metadata": {},
     "output_type": "display_data"
    }
   ],
   "source": [
    "plt.plot(np.arange(1, ep + 1), learning_curve_train, label=\"Train\")\n",
    "plt.plot(np.arange(1, ep + 1), learning_curve_test, label=\"Test\")\n",
    "plt.xlabel(\"# Epochs\")\n",
    "plt.ylabel(\"Loss\")\n",
    "plt.legend()"
   ]
  }
 ],
 "metadata": {
  "kernelspec": {
   "display_name": "Python 3 (ipykernel)",
   "language": "python",
   "name": "python3"
  },
  "language_info": {
   "codemirror_mode": {
    "name": "ipython",
    "version": 3
   },
   "file_extension": ".py",
   "mimetype": "text/x-python",
   "name": "python",
   "nbconvert_exporter": "python",
   "pygments_lexer": "ipython3",
   "version": "3.11.4"
  }
 },
 "nbformat": 4,
 "nbformat_minor": 4
}
