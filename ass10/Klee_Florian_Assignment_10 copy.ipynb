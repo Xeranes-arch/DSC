{
 "cells": [
  {
   "attachments": {},
   "cell_type": "markdown",
   "metadata": {},
   "source": [
    "## Ex 10.1\n",
    "\n",
    "An introduction to Pytorch\n",
    "A more tutorials on how to run pytorch can be found at: https://pytorch.org/tutorials/ \n"
   ]
  },
  {
   "cell_type": "code",
   "execution_count": 61,
   "metadata": {},
   "outputs": [],
   "source": [
    "import numpy as np\n",
    "import matplotlib.pyplot as plt\n",
    "import torch\n",
    "from torch import nn,tensor"
   ]
  },
  {
   "attachments": {},
   "cell_type": "markdown",
   "metadata": {},
   "source": [
    "## 1.1 PyTorch Tensors\n",
    "https://pytorch.org/tutorials/beginner/basics/tensorqs_tutorial.html\n",
    "\n",
    "The basic data type in PyTorch are tensors, they resemble Numpy Arrays, but are optimized to be used inside the Machine Learning Model. <br> \n",
    "In order to familiarize with tensors: <br>\n",
    "1)Construct one tensor from a Python list <br>\n",
    "2)Construct one tensor from a random numpy array <br>\n",
    "3)Generate three tensors (one with random elements, one with all elemnts equal to 1, the third with all zeros) of shape (3,3) using the relative functions inside the module torch. <br>\n",
    "4)Notice that tensors, like numpy arrays, support most of the standard mathematical operations, compute three different matematical operations (based on your choice) using the previously generated tensors <br>\n",
    "5)Transform the results of your operations to numpy arrays."
   ]
  },
  {
   "cell_type": "code",
   "execution_count": 62,
   "metadata": {},
   "outputs": [
    {
     "name": "stdout",
     "output_type": "stream",
     "text": [
      "Using cpu device\n"
     ]
    }
   ],
   "source": [
    "device = \"cuda\" if torch.cuda.is_available() else \"cpu\"\n",
    "print(f\"Using {device} device\")"
   ]
  },
  {
   "attachments": {},
   "cell_type": "markdown",
   "metadata": {},
   "source": [
    "#### 1)"
   ]
  },
  {
   "cell_type": "code",
   "execution_count": 63,
   "metadata": {},
   "outputs": [
    {
     "name": "stdout",
     "output_type": "stream",
     "text": [
      "tensor([[[1, 2, 3],\n",
      "         [2, 3, 1],\n",
      "         [3, 1, 2]],\n",
      "\n",
      "        [[2, 3, 4],\n",
      "         [3, 4, 2],\n",
      "         [4, 2, 3]],\n",
      "\n",
      "        [[3, 4, 5],\n",
      "         [4, 5, 3],\n",
      "         [5, 3, 4]]])\n"
     ]
    }
   ],
   "source": [
    "list = [\n",
    "    [[1, 2, 3], [2, 3, 1], [3, 1, 2]],\n",
    "    [[2, 3, 4], [3, 4, 2], [4, 2, 3]],\n",
    "    [[3, 4, 5], [4, 5, 3], [5, 3, 4]],\n",
    "]\n",
    "ten = tensor(list)\n",
    "print(ten)"
   ]
  },
  {
   "attachments": {},
   "cell_type": "markdown",
   "metadata": {},
   "source": [
    "#### 2)"
   ]
  },
  {
   "cell_type": "code",
   "execution_count": 64,
   "metadata": {},
   "outputs": [
    {
     "name": "stdout",
     "output_type": "stream",
     "text": [
      "tensor([[[0.3729, 0.1187, 0.6435],\n",
      "         [0.3552, 0.9865, 0.5476],\n",
      "         [0.0885, 0.1993, 0.8517]],\n",
      "\n",
      "        [[0.1160, 0.2252, 0.7338],\n",
      "         [0.3652, 0.8718, 0.0362],\n",
      "         [0.0754, 0.2944, 0.6254]],\n",
      "\n",
      "        [[0.2920, 0.5100, 0.5860],\n",
      "         [0.9426, 0.0457, 0.7766],\n",
      "         [0.5227, 0.8084, 0.9412]]], dtype=torch.float64)\n"
     ]
    }
   ],
   "source": [
    "arr = np.random.rand(3, 3, 3)\n",
    "ten = tensor(arr)\n",
    "print(ten)"
   ]
  },
  {
   "attachments": {},
   "cell_type": "markdown",
   "metadata": {},
   "source": [
    "#### 3)"
   ]
  },
  {
   "cell_type": "code",
   "execution_count": 65,
   "metadata": {},
   "outputs": [
    {
     "name": "stdout",
     "output_type": "stream",
     "text": [
      "tensor([[-0.0633, -0.0138, -1.2710],\n",
      "        [ 0.6093, -1.1052, -0.2912],\n",
      "        [-0.9621, -0.6913, -0.6902]])\n",
      "tensor([[1., 1., 1.],\n",
      "        [1., 1., 1.],\n",
      "        [1., 1., 1.]])\n",
      "tensor([[0., 0., 0.],\n",
      "        [0., 0., 0.],\n",
      "        [0., 0., 0.]])\n"
     ]
    }
   ],
   "source": [
    "random_tensor = torch.randn(3, 3)\n",
    "ones_tensor = torch.ones(3, 3)\n",
    "zeros_tensor = torch.zeros(3, 3)\n",
    "print(random_tensor)\n",
    "print(ones_tensor)\n",
    "print(zeros_tensor)"
   ]
  },
  {
   "attachments": {},
   "cell_type": "markdown",
   "metadata": {},
   "source": [
    "#### 4)"
   ]
  },
  {
   "cell_type": "code",
   "execution_count": 66,
   "metadata": {},
   "outputs": [
    {
     "name": "stdout",
     "output_type": "stream",
     "text": [
      "tensor([[ 0.9367,  0.9862, -0.2710],\n",
      "        [ 1.6093, -0.1052,  0.7088],\n",
      "        [ 0.0379,  0.3087,  0.3098]])\n",
      "tensor([[-1.0633, -1.0138, -2.2710],\n",
      "        [-0.3907, -2.1052, -1.2912],\n",
      "        [-1.9621, -1.6913, -1.6902]])\n",
      "tensor([[-0., -0., -0.],\n",
      "        [0., -0., -0.],\n",
      "        [-0., -0., -0.]])\n"
     ]
    }
   ],
   "source": [
    "a = random_tensor + ones_tensor\n",
    "b = random_tensor - ones_tensor\n",
    "c = random_tensor * zeros_tensor\n",
    "print(a)\n",
    "print(b)\n",
    "print(c)"
   ]
  },
  {
   "attachments": {},
   "cell_type": "markdown",
   "metadata": {},
   "source": [
    "#### 5)"
   ]
  },
  {
   "cell_type": "code",
   "execution_count": 67,
   "metadata": {},
   "outputs": [
    {
     "name": "stdout",
     "output_type": "stream",
     "text": [
      "[[-0.06334199 -0.01384032 -1.2709517 ]\n",
      " [ 0.60934824 -1.1051835  -0.29120713]\n",
      " [-0.9620775  -0.6912633  -0.69017065]]\n",
      "[[1. 1. 1.]\n",
      " [1. 1. 1.]\n",
      " [1. 1. 1.]]\n",
      "[[0. 0. 0.]\n",
      " [0. 0. 0.]\n",
      " [0. 0. 0.]]\n"
     ]
    }
   ],
   "source": [
    "d = np.array(random_tensor)\n",
    "e = np.array(ones_tensor)\n",
    "f = np.array(zeros_tensor)\n",
    "print(d)\n",
    "print(e)\n",
    "print(f)"
   ]
  },
  {
   "attachments": {},
   "cell_type": "markdown",
   "metadata": {},
   "source": [
    "## 1.2 DataSets\n",
    "In Pytorch data are grouped in Datasets, to define a costum dataset, you need to derive a costum class from the torch.utils.data.Dataset class (see class inheritance in Python).<br>\n",
    "A Dataset class must implement three functions: __init__, __len__, and __getitem__ , as in the following example:\n",
    "\n",
    "https://pytorch.org/tutorials/beginner/basics/data_tutorial.html#creating-a-custom-dataset-for-your-files\n",
    "\n",
    "\n",
    "    import os\n",
    "    import pandas as pd\n",
    "    from torchvision.io import read_image\n",
    "    from torch.utils.data import Dataset\n",
    "    \n",
    "    class CustomImageDataset(Dataset):\n",
    "        def __init__(self, annotations_file, img_dir, transform=None, target_transform=None):\n",
    "            self.img_labels = pd.read_csv(annotations_file)\n",
    "            self.img_dir = img_dir\n",
    "            self.transform = transform\n",
    "            self.target_transform = target_transform\n",
    "\n",
    "        def __len__(self):\n",
    "            return len(self.img_labels)\n",
    "\n",
    "        def __getitem__(self, idx):\n",
    "            img_path = os.path.join(self.img_dir, self.img_labels.iloc[idx, 0])\n",
    "            image = read_image(img_path)\n",
    "            label = self.img_labels.iloc[idx, 1]\n",
    "            if self.transform:\n",
    "                image = self.transform(image)\n",
    "            if self.target_transform:\n",
    "                label = self.target_transform(label)\n",
    "            return image, label\n",
    "In the example above the initializer saves a list of file names (img_labels) in the Dataset instance.\n",
    "The \\__getitem__(n) function reads from the hard drive the nth. \n"
   ]
  },
  {
   "attachments": {},
   "cell_type": "markdown",
   "metadata": {},
   "source": [
    "1)Create two random tensors (X,Y) of length 200.<br>\n",
    "2)Define a costum dataset which contains as objects two tensors (X and Y). The method \\__getitem__(n) should return the nth values of these tensors\\\n",
    "3) Test if the code works"
   ]
  },
  {
   "attachments": {},
   "cell_type": "markdown",
   "metadata": {},
   "source": [
    "#### 1)"
   ]
  },
  {
   "cell_type": "code",
   "execution_count": 68,
   "metadata": {},
   "outputs": [],
   "source": [
    "X = torch.randn(200)\n",
    "Y = torch.randn(200)"
   ]
  },
  {
   "attachments": {},
   "cell_type": "markdown",
   "metadata": {},
   "source": [
    "#### 2)"
   ]
  },
  {
   "cell_type": "code",
   "execution_count": 69,
   "metadata": {},
   "outputs": [],
   "source": [
    "import os\n",
    "import pandas as pd\n",
    "from torchvision.io import read_image\n",
    "from torch.utils.data import Dataset\n",
    "\n",
    "\n",
    "class CustomDataset(Dataset):\n",
    "    def __init__(self, X, Y):\n",
    "        self.X = X\n",
    "        self.Y = Y\n",
    "\n",
    "    def __getitem__(self, n):\n",
    "        return self.X[n], self.Y[n]\n",
    "\n",
    "    def __len__(self):\n",
    "        return len(self.X)"
   ]
  },
  {
   "attachments": {},
   "cell_type": "markdown",
   "metadata": {},
   "source": [
    "#### 3)"
   ]
  },
  {
   "cell_type": "code",
   "execution_count": 70,
   "metadata": {},
   "outputs": [
    {
     "name": "stdout",
     "output_type": "stream",
     "text": [
      "X[50]: -0.8073201179504395\n",
      "Y[50]: 0.8699907660484314\n"
     ]
    }
   ],
   "source": [
    "Set = CustomDataset(X, Y)\n",
    "\n",
    "n = 50\n",
    "x_value, y_value = Set[n]\n",
    "print(f\"X[{n}]: {x_value}\")\n",
    "print(f\"Y[{n}]: {y_value}\")"
   ]
  },
  {
   "attachments": {},
   "cell_type": "markdown",
   "metadata": {},
   "source": [
    "## 1.3 Neural Layers\n",
    "Neural layers are function which apply transformations to tensors.\n",
    "The linear transformation ($ y=x A^T +b$) is among the simplest:\n",
    "https://pytorch.org/docs/stable/generated/torch.nn.Linear.html#torch.nn.Linear\n",
    "\n",
    "1) create a linear layer which has both as input and output one element tensors. <br>\n",
    "2) Find the parameters ($a$ and $b$) of the 1D transformation, trying to apply the transformation to different tensor (notice that the paramenter are randomly created every time you create a new layer)<br>\n",
    "3) concatenate two layers in order to produce from a scalar imput an inter 3 elements tensor and a 9 element tensor in the end."
   ]
  },
  {
   "cell_type": "code",
   "execution_count": 71,
   "metadata": {},
   "outputs": [
    {
     "name": "stdout",
     "output_type": "stream",
     "text": [
      "-0.29647958278656006 0.8189126253128052\n",
      "torch.Size([9])\n",
      "tensor([-1.4194, -0.7538,  0.0180,  0.8841, -0.4028, -1.2617, -0.5459,  0.2718,\n",
      "        -0.2800], grad_fn=<AddBackward0>)\n"
     ]
    }
   ],
   "source": [
    "lin_lay = nn.Linear(1, 1)\n",
    "a = lin_lay.weight.item()\n",
    "b = lin_lay.bias.item()\n",
    "\n",
    "print(a, b)\n",
    "\n",
    "concatenated_layer = nn.Sequential(nn.Linear(1, 3), nn.Linear(3, 9))\n",
    "ten = concatenated_layer(tensor([1], dtype=torch.float32))\n",
    "print(ten.shape)\n",
    "print(ten)"
   ]
  },
  {
   "attachments": {},
   "cell_type": "markdown",
   "metadata": {},
   "source": [
    "## 1.4 Non linear activation functions\n",
    "In the pytorch docs: https://pytorch.org/docs/stable/nn.html#non-linear-activations-weighted-sum-nonlinearity\n",
    "\n",
    "One way to introduce non linearity in machine learning models is through the use of activation functions. \n",
    "\n",
    "1) Import from pytorch the Rectified Linear Unit function \" ReLU \"  and the hyperbolic tangent \"tanh\" function\n",
    "2) Create a tensor of 100 evenly spaced points between -1 and 1\n",
    "3) Plot the outputs of the two activation functions taking as argument the previously defined vector\n",
    "\n"
   ]
  },
  {
   "cell_type": "code",
   "execution_count": 72,
   "metadata": {},
   "outputs": [],
   "source": [
    "from torch import relu, tanh"
   ]
  },
  {
   "cell_type": "code",
   "execution_count": 73,
   "metadata": {},
   "outputs": [
    {
     "data": {
      "text/plain": [
       "<matplotlib.legend.Legend at 0x16e8748fc10>"
      ]
     },
     "execution_count": 73,
     "metadata": {},
     "output_type": "execute_result"
    },
    {
     "data": {
      "image/png": "[encoded data removed]",
      "text/plain": [
       "<Figure size 640x480 with 1 Axes>"
      ]
     },
     "metadata": {},
     "output_type": "display_data"
    }
   ],
   "source": [
    "ten = tensor(np.linspace(-1, 1, 100))\n",
    "plt.plot(ten, relu(ten))\n",
    "plt.plot(ten, tanh(ten))\n",
    "plt.xlabel(\"x\")\n",
    "plt.ylabel(\"y\")\n",
    "plt.legend([\"relu\", \"tanh\"])"
   ]
  },
  {
   "attachments": {},
   "cell_type": "markdown",
   "metadata": {},
   "source": [
    "## 1.5 Loss functions \n",
    "The way to measure the error of a Machine Learning prediction is through the use of one of the loss function. A list of the loss functions implemented in pytorch can be found here:\n",
    "https://pytorch.org/docs/stable/nn.html#loss-functions\n",
    "\n",
    "One of the most important loss functions for regression problems is the Mean Square Error (MSE loss function)\n",
    "\n",
    "https://pytorch.org/docs/stable/generated/torch.nn.MSELoss.html#torch.nn.MSELoss\n",
    "\n",
    "* Create two random tensors of length 4 \n",
    "* Compute the mean squared difference of the two vectors using the pytorch's MSE Loss function \n",
    "* Compute the mean squared difference of the two vectors using standard matematical operations on tensors\n"
   ]
  },
  {
   "cell_type": "code",
   "execution_count": 74,
   "metadata": {},
   "outputs": [
    {
     "name": "stdout",
     "output_type": "stream",
     "text": [
      "tensor(0.9849)\n",
      "tensor(0.9849)\n"
     ]
    }
   ],
   "source": [
    "ten1 = torch.randn(4)\n",
    "ten2 = torch.randn(4)\n",
    "\n",
    "loss = nn.MSELoss()\n",
    "print(loss(ten1, ten2))\n",
    "\n",
    "diff = ten1 - ten2\n",
    "diff2 = diff**2\n",
    "meansq = diff2.mean()\n",
    "print(meansq)"
   ]
  },
  {
   "attachments": {},
   "cell_type": "markdown",
   "metadata": {},
   "source": [
    "# Example Neural Networks for Classification\n",
    "Here we will provide a code snippet that classifies a dataset of handwritten digits. The layout of the code will provide you with insights and by adapting it, you will solve a classification problem in the next exercise."
   ]
  },
  {
   "cell_type": "code",
   "execution_count": 75,
   "metadata": {},
   "outputs": [],
   "source": [
    "import torch\n",
    "import torch.nn as nn\n",
    "import torch.nn.functional as F\n",
    "import torch.optim as optim\n",
    "from torchvision import datasets, transforms\n",
    "import numpy as np\n",
    "import matplotlib.pyplot as plt"
   ]
  },
  {
   "attachments": {},
   "cell_type": "markdown",
   "metadata": {},
   "source": [
    "First, we will download the dataset and put it into datastructures provided by Pytorch. The transforms used here are specific to the dataset and transform the images into a `torch.tensor`, which is the datastructure used by pytorch (for an in depth tutorial on how Pytorch works and can be used for custom problems you can visit the [tutorials](https://pytorch.org/tutorials/)). In a second step the data points are normalized, which is a usual preprocessing step when training neural networks."
   ]
  },
  {
   "cell_type": "code",
   "execution_count": 76,
   "metadata": {},
   "outputs": [
    {
     "name": "stderr",
     "output_type": "stream",
     "text": [
      "A subdirectory or file mnist already exists.\n"
     ]
    }
   ],
   "source": [
    "# here we just create a directory \"mnist\" to store the dataset in\n",
    "!mkdir mnist"
   ]
  },
  {
   "cell_type": "code",
   "execution_count": 77,
   "metadata": {},
   "outputs": [],
   "source": [
    "transform = transforms.Compose(\n",
    "    [transforms.ToTensor(), transforms.Normalize((0.1307,), (0.3081,))]\n",
    ")\n",
    "dataset_train = datasets.MNIST(\n",
    "    \"./mnist/\", train=True, download=True, transform=transform\n",
    ")\n",
    "dataset_test = datasets.MNIST(\"./mnist/\", train=False, transform=transform)\n",
    "train_loader = torch.utils.data.DataLoader(dataset_train, batch_size=16)\n",
    "test_loader = torch.utils.data.DataLoader(dataset_test, batch_size=16)"
   ]
  },
  {
   "attachments": {},
   "cell_type": "markdown",
   "metadata": {},
   "source": [
    "Here you can have a look at the dataset to get a feeling on how it looks. The goal of the neural network is to use the image as an input and predict the number the image shows."
   ]
  },
  {
   "cell_type": "code",
   "execution_count": 78,
   "metadata": {},
   "outputs": [
    {
     "name": "stdout",
     "output_type": "stream",
     "text": [
      "7 (28, 28)\n",
      "0 (28, 28)\n",
      "3 (28, 28)\n",
      "8 (28, 28)\n",
      "7 (28, 28)\n"
     ]
    },
    {
     "data": {
      "image/png": "[encoded data removed]",
      "text/plain": [
       "<Figure size 1000x200 with 5 Axes>"
      ]
     },
     "metadata": {},
     "output_type": "display_data"
    }
   ],
   "source": [
    "plt.figure(figsize=(10, 2), dpi=100)\n",
    "for k, i in enumerate(np.random.randint(0, len(dataset_train), 5)):\n",
    "    plt.subplot(1, 5, k + 1)\n",
    "    img, label = train_loader.dataset[i]\n",
    "    img = img[0].numpy()\n",
    "    print(label, img.shape)\n",
    "    plt.imshow(img, cmap=\"gray\")\n",
    "    plt.title(\"Label = \" + str(label))\n",
    "    plt.axis(\"off\")\n",
    "plt.show()"
   ]
  },
  {
   "attachments": {},
   "cell_type": "markdown",
   "metadata": {},
   "source": [
    "For this prediction we will use a simple feedforward neural network architecture with one hidden layer and  ReLU-activation function. This activation function has excellent properties for training neural networks, since they solve the vanishing gradient problem and allow for deeper neural networks, but there are many different activation functions that can be used (see the [documentation](https://pytorch.org/docs/stable/nn.html) for a full list).\n",
    "$$\\mathrm{ReLU}(x) = max(0,x)$$\n",
    "As output activation we use a logarithmic softmax, which can be seen as a mapping to the likelihoods of an image belonging to a certain class.\n",
    "\n",
    "The architecture of our neural network consists of two fully connected layers defined in `__init__(self)`, which first map the $28*28=784$ pixels to 128 intermidiate values via matrix multiplication and an added bias term. This intermidiate vector is then mapped to a 10-dimensional ouput vector. The `forward(self, x)` method defines the forward pass of the neural network, where first the image is flattened into a vector, then the first fully connected layer is applied, then a ReLU activation, then the second fully connected layer and finally the logarithmic softmax function."
   ]
  },
  {
   "cell_type": "code",
   "execution_count": 79,
   "metadata": {},
   "outputs": [],
   "source": [
    "class Net(nn.Module):\n",
    "    def __init__(self):\n",
    "        super(Net, self).__init__()\n",
    "        self.fc1 = nn.Linear(784, 128)\n",
    "        self.fc2 = nn.Linear(128, 10)\n",
    "\n",
    "    def forward(self, x):\n",
    "        x = torch.flatten(x, 1)\n",
    "        x = self.fc1(x)\n",
    "        x = F.relu(x)\n",
    "        x = self.fc2(x)\n",
    "        output = F.log_softmax(x, dim=1)\n",
    "        return output"
   ]
  },
  {
   "attachments": {},
   "cell_type": "markdown",
   "metadata": {},
   "source": [
    "After defining our architecture, we need to perform the training of the parameters. This optimization procedure is in most instances based on a gradient descent variety. Since we have a lot of training samples here, computing the full gradient of the loss function with respect to each adaptable weight is very expensive. Instead we opt for an approximation of the gradient of a minibatch of samples (e.g. 16 samples). This gives an approximate gradient direction, which allows us to update our weights and minimize our loss function more efficiently. Below you find a loop over our training and testing dataset. Read through the code and try to understand what each statement means and what happens."
   ]
  },
  {
   "attachments": {},
   "cell_type": "markdown",
   "metadata": {},
   "source": [
    "Run the loop below and train the model (this might take a while)."
   ]
  },
  {
   "cell_type": "code",
   "execution_count": 80,
   "metadata": {},
   "outputs": [],
   "source": [
    "# number of iterations\n",
    "epochs = 0\n",
    "# step width in gradient-based optimization\n",
    "learning_rate = 0.01\n",
    "# initialize our model with random parameters\n",
    "model = Net()\n",
    "# choose an optimizer\n",
    "optimizer = optim.Adam(model.parameters(), lr=learning_rate)\n",
    "# choose a loss function\n",
    "loss_function = F.nll_loss\n",
    "\n",
    "# initialize lists for plotting\n",
    "learning_curve_train = []\n",
    "learning_curve_test = []\n",
    "\n",
    "for epoch in range(1, epochs + 1):\n",
    "    # temporary variables to track model convergence\n",
    "    loss_train = []\n",
    "    loss_test = []\n",
    "    correct = 0\n",
    "\n",
    "    # Training Loop\n",
    "    for data, target in train_loader:\n",
    "        # set gradient to zero\n",
    "        optimizer.zero_grad()\n",
    "        # predict with current model\n",
    "        output = model(data)\n",
    "        # compute loss of predictions and target values\n",
    "        loss = loss_function(output, target)\n",
    "        # Backpropagation of errors gives gradients\n",
    "        loss.backward()\n",
    "        # Update weights with approximate gradient\n",
    "        optimizer.step()\n",
    "        # Store loss\n",
    "        loss_train.append(loss.item())\n",
    "\n",
    "    # Stop tracking gradients for evaluation phase\n",
    "    with torch.no_grad():\n",
    "        # Test Loop\n",
    "        for data, target in test_loader:\n",
    "            # predict with current model\n",
    "            output = model(data)\n",
    "            # compute loss\n",
    "            loss = loss_function(output, target)\n",
    "            # store loss\n",
    "            loss_test.append(loss.item())\n",
    "            # transform output into predicted class\n",
    "            pred = output.argmax(dim=1, keepdim=True)\n",
    "            # compare predictions and labels and store\n",
    "            # number of correct predictions\n",
    "            correct += pred.eq(target.view_as(pred)).sum().item()\n",
    "\n",
    "    # Store loss at each iteration for plotting\n",
    "    learning_curve_train.append(np.mean(loss_train))\n",
    "    learning_curve_test.append(np.mean(loss_test))\n",
    "\n",
    "    # Print to Stdout\n",
    "    print(\n",
    "        \"Epoch: {}\\tTrain loss: {:.4f}\\tTest loss: {:.4f}\\tTest Accuracy: {}/{} ({:.0f}%)\".format(\n",
    "            epoch,\n",
    "            learning_curve_train[-1],\n",
    "            learning_curve_test[-1],\n",
    "            correct,\n",
    "            len(test_loader.dataset),\n",
    "            100.0 * correct / len(test_loader.dataset),\n",
    "        )\n",
    "    )"
   ]
  },
  {
   "attachments": {},
   "cell_type": "markdown",
   "metadata": {},
   "source": [
    "We can check if the model generalizes by looking at the learning curve (loss of training and testing data at each iteration)."
   ]
  },
  {
   "cell_type": "code",
   "execution_count": 81,
   "metadata": {},
   "outputs": [
    {
     "data": {
      "text/plain": [
       "<matplotlib.legend.Legend at 0x16e8766c0d0>"
      ]
     },
     "execution_count": 81,
     "metadata": {},
     "output_type": "execute_result"
    },
    {
     "data": {
      "image/png": "[encoded data removed]",
      "text/plain": [
       "<Figure size 640x480 with 1 Axes>"
      ]
     },
     "metadata": {},
     "output_type": "display_data"
    }
   ],
   "source": [
    "plt.plot(np.arange(1, epochs + 1), learning_curve_train, label=\"Train\")\n",
    "plt.plot(np.arange(1, epochs + 1), learning_curve_test, label=\"Test\")\n",
    "plt.xlabel(\"# Epochs\")\n",
    "plt.ylabel(\"Loss\")\n",
    "plt.legend()"
   ]
  },
  {
   "attachments": {},
   "cell_type": "markdown",
   "metadata": {},
   "source": [
    "Now we can look at some of the predictions."
   ]
  },
  {
   "cell_type": "code",
   "execution_count": 82,
   "metadata": {},
   "outputs": [
    {
     "data": {
      "image/png": "[encoded data removed]",
      "text/plain": [
       "<Figure size 1000x200 with 5 Axes>"
      ]
     },
     "metadata": {},
     "output_type": "display_data"
    }
   ],
   "source": [
    "plt.figure(figsize=(10, 2), dpi=100)\n",
    "for k, i in enumerate(np.random.randint(0, len(dataset_test), 5)):\n",
    "    plt.subplot(1, 5, k + 1)\n",
    "    img, label = test_loader.dataset[i]\n",
    "    pred = torch.argmax(model(img)).item()\n",
    "    img = img[0].numpy()\n",
    "    plt.imshow(img, cmap=\"gray\")\n",
    "    plt.title(\"Prediction = \" + str(pred))\n",
    "    plt.xticks([])\n",
    "    plt.yticks([])\n",
    "    plt.xlabel(\"True = \" + str(label))\n",
    "plt.show()"
   ]
  },
  {
   "cell_type": "code",
   "execution_count": 83,
   "metadata": {},
   "outputs": [
    {
     "data": {
      "text/plain": [
       "(-0.42421296, 2.8214867, 3.2456996)"
      ]
     },
     "execution_count": 83,
     "metadata": {},
     "output_type": "execute_result"
    }
   ],
   "source": [
    "mim, Mim = (test_loader.dataset[7][0].numpy()).min(), (\n",
    "    test_loader.dataset[7][0].numpy()\n",
    ").max()\n",
    "mim, Mim, Mim - mim"
   ]
  },
  {
   "cell_type": "code",
   "execution_count": null,
   "metadata": {},
   "outputs": [],
   "source": []
  },
  {
   "attachments": {},
   "cell_type": "markdown",
   "metadata": {},
   "source": [
    "# Ex 10.2\n",
    "\n",
    "## Classification of Stars \n",
    "In this exercise we are going to adapt the previously provided code to work on a comparatively small dataset of star measurements from [Kaggle](https://www.kaggle.com/deepu1109/star-dataset). From just four measurements (Temperature, Luminosity, Radius, Absolute magnitude), we will try to predict the star type (Browm Dwarf, Red Dwarf, White Dwarf, Main Sequence, Supergiant, Hypergiant) by using a Feedforward Neural Network architecture that was trained on 200 measurements. By determining hyperparameters we will optimize our model before we will test the generalization of the model to not seen instances."
   ]
  },
  {
   "attachments": {},
   "cell_type": "markdown",
   "metadata": {},
   "source": [
    "### Class Dataset"
   ]
  },
  {
   "cell_type": "code",
   "execution_count": 85,
   "metadata": {},
   "outputs": [],
   "source": [
    "from torch.utils.data import Dataset\n",
    "from sklearn.preprocessing import LabelEncoder\n",
    "\n",
    "class CustomDataset(Dataset):\n",
    "    def __init__(self, data, labels):\n",
    "        self.data = data\n",
    "        self.label_encoder = LabelEncoder()\n",
    "        self.labels = self.label_encoder.fit_transform(labels)\n",
    "\n",
    "    def __len__(self):\n",
    "        return len(self.data)\n",
    "\n",
    "    def __getitem__(self, index):\n",
    "        star_attributes = torch.Tensor(self.data[index])\n",
    "        star_label = torch.Tensor([self.labels[index]])\n",
    "        \n",
    "        return star_attributes, star_label"
   ]
  },
  {
   "attachments": {},
   "cell_type": "markdown",
   "metadata": {},
   "source": [
    "### Class nNet"
   ]
  },
  {
   "cell_type": "code",
   "execution_count": 86,
   "metadata": {},
   "outputs": [],
   "source": [
    "class Star_Net(nn.Module):\n",
    "    def __init__(self):\n",
    "        super(Star_Net, self).__init__()\n",
    "        self.fc1 = nn.Linear(4,16)\n",
    "        self.fc2 = nn.Linear(16,7)\n",
    "        \n",
    "        # Convert weight tensor to float\n",
    "        self.fc1.weight.data = self.fc1.weight.data.float()\n",
    "        self.fc2.weight.data = self.fc2.weight.data.float()\n",
    "\n",
    "    def forward(self, x):\n",
    "        x = F.relu(self.fc1(x.to(self.fc1.weight.dtype)))\n",
    "        x = self.fc2(x)\n",
    "        return F.log_softmax(x, dim=1)"
   ]
  },
  {
   "attachments": {},
   "cell_type": "markdown",
   "metadata": {},
   "source": [
    "### Show performance function"
   ]
  },
  {
   "cell_type": "code",
   "execution_count": 87,
   "metadata": {},
   "outputs": [],
   "source": [
    "import numpy as np\n",
    "import matplotlib.pyplot as plt\n",
    "from sklearn.metrics import confusion_matrix\n",
    "import seaborn as sns\n",
    "\n",
    "def show_perform(epoch):\n",
    "    # Get predicted labels for training set\n",
    "    predicted_train_labels = []\n",
    "    for inputs, _ in train_loader:\n",
    "        inputs = inputs.to(device)\n",
    "        outputs = model(inputs)\n",
    "        _, predicted = torch.max(outputs, 1)\n",
    "        predicted_train_labels.extend(predicted.cpu().numpy())\n",
    "\n",
    "    # Get predicted labels for testing set\n",
    "    predicted_test_labels = []\n",
    "    for inputs, _ in test_loader:\n",
    "        inputs = inputs.to(device)\n",
    "        outputs = model(inputs)\n",
    "        _, predicted = torch.max(outputs, 1)\n",
    "        predicted_test_labels.extend(predicted.cpu().numpy())\n",
    "\n",
    "    # Convert the true labels to numpy arrays\n",
    "    true_train_labels = np.array(train_loader.dataset.labels)\n",
    "    true_test_labels = np.array(test_loader.dataset.labels)\n",
    "\n",
    "    print(predicted_test_labels)\n",
    "\n",
    "    # Compute the confusion matrices\n",
    "    train_cm = confusion_matrix(true_train_labels, predicted_train_labels)\n",
    "    test_cm = confusion_matrix(true_test_labels, predicted_test_labels)\n",
    "\n",
    "    # Visualize the confusion matrices\n",
    "    plt.figure(figsize=(10, 5))\n",
    "    plt.title(epoch)\n",
    "    plt.subplot(1, 2, 1)\n",
    "    sns.heatmap(train_cm, annot=True, fmt=\"d\", cmap=\"Blues\")\n",
    "    plt.title(\"Training Set Confusion Matrix\")\n",
    "    plt.xlabel(\"Predicted Label\")\n",
    "    plt.ylabel(\"True Label\")\n",
    "\n",
    "    plt.subplot(1, 2, 2)\n",
    "    sns.heatmap(test_cm, annot=True, fmt=\"d\", cmap=\"Blues\")\n",
    "    plt.title(\"Testing Set Confusion Matrix\")\n",
    "    plt.xlabel(\"Predicted Label\")\n",
    "    plt.ylabel(\"True Label\")\n",
    "\n",
    "    plt.tight_layout()\n",
    "    plt.show()"
   ]
  },
  {
   "attachments": {},
   "cell_type": "markdown",
   "metadata": {},
   "source": [
    "### Train and Evaluate functions"
   ]
  },
  {
   "cell_type": "code",
   "execution_count": 88,
   "metadata": {},
   "outputs": [],
   "source": [
    "def train(model, train_loader, optimizer, loss_function):\n",
    "    model.train()\n",
    "    loss_values = []\n",
    "\n",
    "    for inputs, labels in train_loader:\n",
    "        inputs = inputs.to(device).float()  # Convert input tensor to float\n",
    "        labels = labels.squeeze().to(device).long()\n",
    "\n",
    "        optimizer.zero_grad()\n",
    "        outputs = model(inputs)\n",
    "        loss = loss_function(outputs, labels)\n",
    "        loss.backward()\n",
    "        optimizer.step()\n",
    "\n",
    "        loss_values.append(loss.item())\n",
    "\n",
    "    return loss_values\n",
    "\n",
    "\n",
    "def evaluate(model, test_loader, loss_function):\n",
    "    model.eval()\n",
    "    loss_test = []\n",
    "    correct = 0\n",
    "\n",
    "    with torch.no_grad():\n",
    "        for inputs, labels in test_loader:\n",
    "            inputs, labels = inputs.to(device), labels.squeeze().long().to(device)\n",
    "            inputs = inputs.to(device, dtype=torch.float32)\n",
    "\n",
    "            outputs = model(inputs)\n",
    "\n",
    "            loss = loss_function(outputs, labels)\n",
    "            loss_test.append(loss.item())\n",
    "            _, predicted = torch.max(outputs.data, 1)\n",
    "            correct += (predicted == labels).sum().item()\n",
    "\n",
    "    accuracy = 100.0 * correct / len(test_loader.dataset)\n",
    "    return loss_test, accuracy"
   ]
  },
  {
   "attachments": {},
   "cell_type": "markdown",
   "metadata": {},
   "source": [
    "### Run function"
   ]
  },
  {
   "cell_type": "code",
   "execution_count": 89,
   "metadata": {},
   "outputs": [],
   "source": [
    "def run(epochs, learning_rate):\n",
    "\n",
    "    # Set the device to be used (CPU or GPU if available)\n",
    "    device = torch.device(\"cuda\" if torch.cuda.is_available() else \"cpu\")\n",
    "\n",
    "    # Initialize the model\n",
    "    model = Star_Net().to(device)\n",
    "\n",
    "    # Define the optimizer and loss function\n",
    "    optimizer = optim.Adam(model.parameters(), lr=learning_rate)\n",
    "    loss_function = nn.CrossEntropyLoss()\n",
    "\n",
    "    # Initialize lists for plotting\n",
    "    learning_curve_train = []\n",
    "    learning_curve_test = []\n",
    "\n",
    "    # Training loop\n",
    "    for epoch in range(1, epochs + 1):\n",
    "        loss_train = train(model, train_loader, optimizer, loss_function)\n",
    "        loss_test, accuracy = evaluate(model, test_loader, loss_function)\n",
    "\n",
    "        learning_curve_train.append(torch.mean(torch.tensor(loss_train)))\n",
    "        learning_curve_test.append(torch.mean(torch.tensor(loss_test)))\n",
    "\n",
    "        print(\"Epoch: {}\\tTrain loss: {:.4f}\\tTest loss: {:.4f}\\tTest Accuracy: {:.2f}%\".format(\n",
    "            epoch,\n",
    "            learning_curve_train[-1],\n",
    "            learning_curve_test[-1],\n",
    "            accuracy\n",
    "            ))\n",
    "\n",
    "    show_perform(epoch)"
   ]
  },
  {
   "cell_type": "markdown",
   "metadata": {},
   "source": [
    "### Process data"
   ]
  },
  {
   "cell_type": "code",
   "execution_count": 90,
   "metadata": {},
   "outputs": [
    {
     "name": "stdout",
     "output_type": "stream",
     "text": [
      "[2.96629095e-02 2.73127546e-09 2.59099275e-05 3.32796311e-01]\n",
      "[1.26586269e-01 1.68340750e-06 1.78226952e-04 3.32176566e-01]\n"
     ]
    }
   ],
   "source": [
    "df = pd.read_csv(\"star_data.csv\")\n",
    "\n",
    "x = np.array(\n",
    "    df[\n",
    "        [\n",
    "            \"Temperature (K)\",\n",
    "            \"Luminosity(L/Lo)\",\n",
    "            \"Radius(R/Ro)\",\n",
    "            \"Absolute magnitude(Mv)\",\n",
    "        ]\n",
    "    ]\n",
    ")\n",
    "\n",
    "y = np.array(df[\"Spectral Class\"])\n",
    "\n",
    "# Rescale\n",
    "xre = rescale(x)\n",
    "\n",
    "# Shuffle\n",
    "rows = np.arange(xre.shape[0])\n",
    "np.random.shuffle(rows)\n",
    "xsh = xre[rows, :]\n",
    "ysh = y[rows]\n",
    "print(xre[0])\n",
    "print(xsh[0])\n",
    "\n",
    "# Split\n",
    "train_set = tensor(xsh[:200, :])\n",
    "test_set = tensor(xsh[200:, :])\n",
    "train_y = ysh[:200]\n",
    "test_y = ysh[200:]\n",
    "\n",
    "Train_Set = CustomDataset(train_set, train_y)\n",
    "Test_Set = CustomDataset(test_set, test_y)\n",
    "\n",
    "# print(np.unique(train_y, return_counts=True))\n",
    "# print(np.unique(test_y))\n",
    "# random_indices = np.random.choice(len(Train_Set), 5)\n",
    "# for i in Test_Set:\n",
    "#     sample, label = i\n",
    "#     print(\"Input:\", sample)\n",
    "#     print(\"Label:\", label)\n",
    "#     print()\n",
    "\n",
    "train_loader = torch.utils.data.DataLoader(Train_Set, batch_size=2)\n",
    "test_loader = torch.utils.data.DataLoader(Test_Set, batch_size=2)"
   ]
  },
  {
   "cell_type": "code",
   "execution_count": 91,
   "metadata": {},
   "outputs": [
    {
     "name": "stdout",
     "output_type": "stream",
     "text": [
      "Epoch: 1\tTrain loss: 1.9156\tTest loss: 2.1430\tTest Accuracy: 0.00%\n",
      "Epoch: 2\tTrain loss: 1.7335\tTest loss: 2.3827\tTest Accuracy: 0.00%\n",
      "Epoch: 3\tTrain loss: 1.5838\tTest loss: 2.6639\tTest Accuracy: 0.00%\n"
     ]
    },
    {
     "name": "stdout",
     "output_type": "stream",
     "text": [
      "Epoch: 4\tTrain loss: 1.4794\tTest loss: 2.9174\tTest Accuracy: 0.00%\n",
      "Epoch: 5\tTrain loss: 1.3999\tTest loss: 3.1077\tTest Accuracy: 0.00%\n",
      "Epoch: 6\tTrain loss: 1.3388\tTest loss: 3.2469\tTest Accuracy: 0.00%\n",
      "Epoch: 7\tTrain loss: 1.2872\tTest loss: 3.3540\tTest Accuracy: 5.00%\n",
      "Epoch: 8\tTrain loss: 1.2397\tTest loss: 3.4416\tTest Accuracy: 7.50%\n",
      "Epoch: 9\tTrain loss: 1.1945\tTest loss: 3.5170\tTest Accuracy: 10.00%\n",
      "Epoch: 10\tTrain loss: 1.1505\tTest loss: 3.5831\tTest Accuracy: 10.00%\n"
     ]
    },
    {
     "ename": "RuntimeError",
     "evalue": "mat1 and mat2 must have the same dtype",
     "output_type": "error",
     "traceback": [
      "\u001b[1;31m---------------------------------------------------------------------------\u001b[0m",
      "\u001b[1;31mRuntimeError\u001b[0m                              Traceback (most recent call last)",
      "Cell \u001b[1;32mIn[91], line 4\u001b[0m\n\u001b[0;32m      1\u001b[0m ep \u001b[39m=\u001b[39m \u001b[39m10\u001b[39m\n\u001b[0;32m      2\u001b[0m lr \u001b[39m=\u001b[39m \u001b[39m0.001\u001b[39m\n\u001b[1;32m----> 4\u001b[0m run(ep, lr)\n",
      "Cell \u001b[1;32mIn[89], line 32\u001b[0m, in \u001b[0;36mrun\u001b[1;34m(epochs, learning_rate)\u001b[0m\n\u001b[0;32m     23\u001b[0m     learning_curve_test\u001b[39m.\u001b[39mappend(torch\u001b[39m.\u001b[39mmean(torch\u001b[39m.\u001b[39mtensor(loss_test)))\n\u001b[0;32m     25\u001b[0m     \u001b[39mprint\u001b[39m(\u001b[39m\"\u001b[39m\u001b[39mEpoch: \u001b[39m\u001b[39m{}\u001b[39;00m\u001b[39m\\t\u001b[39;00m\u001b[39mTrain loss: \u001b[39m\u001b[39m{:.4f}\u001b[39;00m\u001b[39m\\t\u001b[39;00m\u001b[39mTest loss: \u001b[39m\u001b[39m{:.4f}\u001b[39;00m\u001b[39m\\t\u001b[39;00m\u001b[39mTest Accuracy: \u001b[39m\u001b[39m{:.2f}\u001b[39;00m\u001b[39m%\u001b[39m\u001b[39m\"\u001b[39m\u001b[39m.\u001b[39mformat(\n\u001b[0;32m     26\u001b[0m         epoch,\n\u001b[0;32m     27\u001b[0m         learning_curve_train[\u001b[39m-\u001b[39m\u001b[39m1\u001b[39m],\n\u001b[0;32m     28\u001b[0m         learning_curve_test[\u001b[39m-\u001b[39m\u001b[39m1\u001b[39m],\n\u001b[0;32m     29\u001b[0m         accuracy\n\u001b[0;32m     30\u001b[0m         ))\n\u001b[1;32m---> 32\u001b[0m show_perform(epoch)\n",
      "Cell \u001b[1;32mIn[87], line 11\u001b[0m, in \u001b[0;36mshow_perform\u001b[1;34m(epoch)\u001b[0m\n\u001b[0;32m      9\u001b[0m \u001b[39mfor\u001b[39;00m inputs, _ \u001b[39min\u001b[39;00m train_loader:\n\u001b[0;32m     10\u001b[0m     inputs \u001b[39m=\u001b[39m inputs\u001b[39m.\u001b[39mto(device)\n\u001b[1;32m---> 11\u001b[0m     outputs \u001b[39m=\u001b[39m model(inputs)\n\u001b[0;32m     12\u001b[0m     _, predicted \u001b[39m=\u001b[39m torch\u001b[39m.\u001b[39mmax(outputs, \u001b[39m1\u001b[39m)\n\u001b[0;32m     13\u001b[0m     predicted_train_labels\u001b[39m.\u001b[39mextend(predicted\u001b[39m.\u001b[39mcpu()\u001b[39m.\u001b[39mnumpy())\n",
      "File \u001b[1;32mc:\\Users\\Xeonis7\\My Drive\\Physik\\Semester4\\DSC\\DSC-Git\\.venv\\Lib\\site-packages\\torch\\nn\\modules\\module.py:1501\u001b[0m, in \u001b[0;36mModule._call_impl\u001b[1;34m(self, *args, **kwargs)\u001b[0m\n\u001b[0;32m   1496\u001b[0m \u001b[39m# If we don't have any hooks, we want to skip the rest of the logic in\u001b[39;00m\n\u001b[0;32m   1497\u001b[0m \u001b[39m# this function, and just call forward.\u001b[39;00m\n\u001b[0;32m   1498\u001b[0m \u001b[39mif\u001b[39;00m \u001b[39mnot\u001b[39;00m (\u001b[39mself\u001b[39m\u001b[39m.\u001b[39m_backward_hooks \u001b[39mor\u001b[39;00m \u001b[39mself\u001b[39m\u001b[39m.\u001b[39m_backward_pre_hooks \u001b[39mor\u001b[39;00m \u001b[39mself\u001b[39m\u001b[39m.\u001b[39m_forward_hooks \u001b[39mor\u001b[39;00m \u001b[39mself\u001b[39m\u001b[39m.\u001b[39m_forward_pre_hooks\n\u001b[0;32m   1499\u001b[0m         \u001b[39mor\u001b[39;00m _global_backward_pre_hooks \u001b[39mor\u001b[39;00m _global_backward_hooks\n\u001b[0;32m   1500\u001b[0m         \u001b[39mor\u001b[39;00m _global_forward_hooks \u001b[39mor\u001b[39;00m _global_forward_pre_hooks):\n\u001b[1;32m-> 1501\u001b[0m     \u001b[39mreturn\u001b[39;00m forward_call(\u001b[39m*\u001b[39;49margs, \u001b[39m*\u001b[39;49m\u001b[39m*\u001b[39;49mkwargs)\n\u001b[0;32m   1502\u001b[0m \u001b[39m# Do not call functions when jit is used\u001b[39;00m\n\u001b[0;32m   1503\u001b[0m full_backward_hooks, non_full_backward_hooks \u001b[39m=\u001b[39m [], []\n",
      "Cell \u001b[1;32mIn[79], line 9\u001b[0m, in \u001b[0;36mNet.forward\u001b[1;34m(self, x)\u001b[0m\n\u001b[0;32m      7\u001b[0m \u001b[39mdef\u001b[39;00m \u001b[39mforward\u001b[39m(\u001b[39mself\u001b[39m, x):\n\u001b[0;32m      8\u001b[0m     x \u001b[39m=\u001b[39m torch\u001b[39m.\u001b[39mflatten(x, \u001b[39m1\u001b[39m)\n\u001b[1;32m----> 9\u001b[0m     x \u001b[39m=\u001b[39m \u001b[39mself\u001b[39;49m\u001b[39m.\u001b[39;49mfc1(x)\n\u001b[0;32m     10\u001b[0m     x \u001b[39m=\u001b[39m F\u001b[39m.\u001b[39mrelu(x)\n\u001b[0;32m     11\u001b[0m     x \u001b[39m=\u001b[39m \u001b[39mself\u001b[39m\u001b[39m.\u001b[39mfc2(x)\n",
      "File \u001b[1;32mc:\\Users\\Xeonis7\\My Drive\\Physik\\Semester4\\DSC\\DSC-Git\\.venv\\Lib\\site-packages\\torch\\nn\\modules\\module.py:1501\u001b[0m, in \u001b[0;36mModule._call_impl\u001b[1;34m(self, *args, **kwargs)\u001b[0m\n\u001b[0;32m   1496\u001b[0m \u001b[39m# If we don't have any hooks, we want to skip the rest of the logic in\u001b[39;00m\n\u001b[0;32m   1497\u001b[0m \u001b[39m# this function, and just call forward.\u001b[39;00m\n\u001b[0;32m   1498\u001b[0m \u001b[39mif\u001b[39;00m \u001b[39mnot\u001b[39;00m (\u001b[39mself\u001b[39m\u001b[39m.\u001b[39m_backward_hooks \u001b[39mor\u001b[39;00m \u001b[39mself\u001b[39m\u001b[39m.\u001b[39m_backward_pre_hooks \u001b[39mor\u001b[39;00m \u001b[39mself\u001b[39m\u001b[39m.\u001b[39m_forward_hooks \u001b[39mor\u001b[39;00m \u001b[39mself\u001b[39m\u001b[39m.\u001b[39m_forward_pre_hooks\n\u001b[0;32m   1499\u001b[0m         \u001b[39mor\u001b[39;00m _global_backward_pre_hooks \u001b[39mor\u001b[39;00m _global_backward_hooks\n\u001b[0;32m   1500\u001b[0m         \u001b[39mor\u001b[39;00m _global_forward_hooks \u001b[39mor\u001b[39;00m _global_forward_pre_hooks):\n\u001b[1;32m-> 1501\u001b[0m     \u001b[39mreturn\u001b[39;00m forward_call(\u001b[39m*\u001b[39;49margs, \u001b[39m*\u001b[39;49m\u001b[39m*\u001b[39;49mkwargs)\n\u001b[0;32m   1502\u001b[0m \u001b[39m# Do not call functions when jit is used\u001b[39;00m\n\u001b[0;32m   1503\u001b[0m full_backward_hooks, non_full_backward_hooks \u001b[39m=\u001b[39m [], []\n",
      "File \u001b[1;32mc:\\Users\\Xeonis7\\My Drive\\Physik\\Semester4\\DSC\\DSC-Git\\.venv\\Lib\\site-packages\\torch\\nn\\modules\\linear.py:114\u001b[0m, in \u001b[0;36mLinear.forward\u001b[1;34m(self, input)\u001b[0m\n\u001b[0;32m    113\u001b[0m \u001b[39mdef\u001b[39;00m \u001b[39mforward\u001b[39m(\u001b[39mself\u001b[39m, \u001b[39minput\u001b[39m: Tensor) \u001b[39m-\u001b[39m\u001b[39m>\u001b[39m Tensor:\n\u001b[1;32m--> 114\u001b[0m     \u001b[39mreturn\u001b[39;00m F\u001b[39m.\u001b[39;49mlinear(\u001b[39minput\u001b[39;49m, \u001b[39mself\u001b[39;49m\u001b[39m.\u001b[39;49mweight, \u001b[39mself\u001b[39;49m\u001b[39m.\u001b[39;49mbias)\n",
      "\u001b[1;31mRuntimeError\u001b[0m: mat1 and mat2 must have the same dtype"
     ]
    }
   ],
   "source": [
    "ep = 10\n",
    "lr = 0.001\n",
    "\n",
    "run(ep, lr)"
   ]
  },
  {
   "attachments": {},
   "cell_type": "markdown",
   "metadata": {},
   "source": [
    "### Visualize"
   ]
  },
  {
   "cell_type": "code",
   "execution_count": null,
   "metadata": {},
   "outputs": [
    {
     "data": {
      "text/plain": [
       "<matplotlib.legend.Legend at 0x207e1eb5610>"
      ]
     },
     "execution_count": 2714,
     "metadata": {},
     "output_type": "execute_result"
    },
    {
     "data": {
      "image/png": "[encoded data removed]",
      "text/plain": [
       "<Figure size 640x480 with 1 Axes>"
      ]
     },
     "metadata": {},
     "output_type": "display_data"
    }
   ],
   "source": [
    "plt.plot(np.arange(1, epochs + 1), learning_curve_train, label=\"Train\")\n",
    "plt.plot(np.arange(1, epochs + 1), learning_curve_test, label=\"Test\")\n",
    "plt.xlabel(\"# Epochs\")\n",
    "plt.ylabel(\"Loss\")\n",
    "plt.legend()"
   ]
  }
 ],
 "metadata": {
  "kernelspec": {
   "display_name": "Python 3 (ipykernel)",
   "language": "python",
   "name": "python3"
  },
  "language_info": {
   "codemirror_mode": {
    "name": "ipython",
    "version": 3
   },
   "file_extension": ".py",
   "mimetype": "text/x-python",
   "name": "python",
   "nbconvert_exporter": "python",
   "pygments_lexer": "ipython3",
   "version": "3.11.4"
  }
 },
 "nbformat": 4,
 "nbformat_minor": 4
}
