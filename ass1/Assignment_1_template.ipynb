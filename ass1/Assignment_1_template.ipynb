{
  "cells": [
    {
      "cell_type": "markdown",
      "metadata": {
        "id": "D22JY_bO1Yc4"
      },
      "source": [
        "### Exercise 1\n",
        "Python syntax and plot types. In a jupyter notebook generate 4 subplots on a 2x2 grid\n",
        "with the following properties:\n",
        "- A histogram of 1000 Gaussian random numbers, with x-axis limits between -5 and +5.\n",
        "- A scatterplot of noisy data that should be aranged around a line of slope 1.\n",
        "- A barplot of categories \"A\" to \"Z\" at every other letter, and the height of each bar should correspond to the position of each letter in the alphabet.\n",
        "- A normal plot of cos(x), sin(x) and cos(x) − sin(x) in [−π; +π]."
      ]
    },
    {
      "cell_type": "code",
      "execution_count": null,
      "metadata": {
        "id": "zeftIpnP1Yc7"
      },
      "outputs": [],
      "source": [
        "import string\n",
        "import matplotlib.pyplot as plt\n",
        "import numpy as np"
      ]
    },
    {
      "cell_type": "code",
      "execution_count": null,
      "metadata": {
        "id": "skDh44BA1Yc9"
      },
      "outputs": [],
      "source": []
    },
    {
      "cell_type": "markdown",
      "metadata": {
        "id": "R01BT5k21Yc-"
      },
      "source": [
        "### Exercise 2\n",
        "Plotting \"real\" data. Download the file ex3_grades.dat from Moodle. You should perform\n",
        "the following tasks:\n",
        "- Read in the data file using numpy.\n",
        "- Create a histogram of grades with the following key: < 60% = 5, 60.00% − 69.99% = 4, 70.00% − 79.99% = 3, 80.00% − 89.99% = 2, 90.00% − 100.00% = 1.\n",
        "- Find and print the 5 best students, their scores, and their grades.\n",
        "- Compute and print the lowest, highest and average scores and add this information to the histogram figure."
      ]
    },
    {
      "cell_type": "code",
      "execution_count": null,
      "metadata": {
        "id": "Fhov4ATP1Yc_"
      },
      "outputs": [],
      "source": []
    },
    {
      "cell_type": "markdown",
      "metadata": {
        "id": "meWMyf7c1YdA"
      },
      "source": [
        "# Exercise 3\n",
        "Plotting \"real\" data. Download the fileex3_co2.datfrom Moodle. You should performthe following tasks:\n",
        "- Read in the data file.\n",
        "- Compute the total CO2emission of each country/region from 1950 onwards and create abarplot.\n",
        "- Show the development from 1950 onwards for the top countries/regions"
      ]
    },
    {
      "cell_type": "code",
      "execution_count": null,
      "metadata": {
        "id": "TgligDvG1YdB"
      },
      "outputs": [],
      "source": []
    }
  ],
  "metadata": {
    "kernelspec": {
      "display_name": "Python 3 (ipykernel)",
      "language": "python",
      "name": "python3"
    },
    "language_info": {
      "codemirror_mode": {
        "name": "ipython",
        "version": 3
      },
      "file_extension": ".py",
      "mimetype": "text/x-python",
      "name": "python",
      "nbconvert_exporter": "python",
      "pygments_lexer": "ipython3",
      "version": "3.8.12"
    },
    "colab": {
      "provenance": []
    }
  },
  "nbformat": 4,
  "nbformat_minor": 0
}