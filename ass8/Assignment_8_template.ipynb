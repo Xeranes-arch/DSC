{
 "cells": [
  {
   "cell_type": "code",
   "execution_count": null,
   "metadata": {},
   "outputs": [],
   "source": [
    "# for plotting\n",
    "import matplotlib.pyplot as plt\n",
    "def set_spines(ax):\n",
    "    ax.spines['right'].set_color('none')\n",
    "    ax.spines['top'].set_color('none')\n",
    "    ax.spines['bottom'].set_position(('axes', -0.1))\n",
    "    ax.spines['bottom'].set_color('black')\n",
    "    ax.spines['left'].set_color('black')\n",
    "    ax.yaxis.set_ticks_position('left')\n",
    "    ax.xaxis.set_ticks_position('bottom')\n",
    "    ax.spines['left'].set_position(('axes', -0.1))\n",
    "def set_axes_equal(ax):\n",
    "    '''Make axes of 3D plot have equal scale so that spheres appear as spheres,\n",
    "    cubes as cubes, etc..  This is one possible solution to Matplotlib's\n",
    "    ax.set_aspect('equal') and ax.axis('equal') not working for 3D.\n",
    "    Input\n",
    "      ax: a matplotlib axis, e.g., as output from plt.gca().\n",
    "    '''\n",
    "\n",
    "    x_limits = ax.get_xlim3d()\n",
    "    y_limits = ax.get_ylim3d()\n",
    "    z_limits = ax.get_zlim3d()\n",
    "\n",
    "    x_range = abs(x_limits[1] - x_limits[0])\n",
    "    x_middle = np.mean(x_limits)\n",
    "    y_range = abs(y_limits[1] - y_limits[0])\n",
    "    y_middle = np.mean(y_limits)\n",
    "    z_range = abs(z_limits[1] - z_limits[0])\n",
    "    z_middle = np.mean(z_limits)\n",
    "\n",
    "    # The plot bounding box is a sphere in the sense of the infinity\n",
    "    # norm, hence I call half the max range the plot radius.\n",
    "    plot_radius = 0.5*max([x_range, y_range, z_range])\n",
    "\n",
    "    ax.set_xlim3d([x_middle - plot_radius, x_middle + plot_radius])\n",
    "    ax.set_ylim3d([y_middle - plot_radius, y_middle + plot_radius])\n",
    "    ax.set_zlim3d([z_middle - plot_radius, z_middle + plot_radius])"
   ]
  },
  {
   "cell_type": "markdown",
   "metadata": {},
   "source": [
    "# Ex 8.1 Pearson's $\\chi^2$ test  "
   ]
  },
  {
   "cell_type": "markdown",
   "metadata": {},
   "source": [
    "### Ex: $\\chi^2$ Test for Goodness of Fit\n",
    "\n",
    "The following data represents the observed frequencies of the number of photons emitted by a source in a given time interval (the frequency of detecting N photons tells you in how many time intervals the detector is hit exactly by N photons):\n",
    "\n",
    "\n",
    "| Number of Photons | Observed Frequencies |\n",
    "|-------------------|-------------|\n",
    "| 0                 | 34          |\n",
    "| 1                 | 33          |\n",
    "| 2                 | 16          |\n",
    "| 3                 | 10          |\n",
    "| 4                 | 4           |\n",
    "| 5                 | 2           |\n",
    "| 6                 | 1           |\n",
    "\n",
    "\n",
    "The expected frequencies for each category are based on a Poisson distribution with parameter $\\lambda=1.2$, which represents the average number of photons emitted per time interval. Use the $\\chi^2$ test for goodness of fit to determine whether the observed frequencies fit the expected Poisson distribution.\n",
    "\n",
    "## 1.1\n",
    "Generate the expected frequencies based on a Poisson distribution with $\\lambda=1.2$.\n",
    "Plot together the observed values and the expected ones.\n",
    "\n",
    "What is the meaning of $\\lambda$ for a Poisson distribution?\n",
    "\n",
    "\n",
    "Hint: You can use scipy.stats.poisson.pmf for this."
   ]
  },
  {
   "cell_type": "code",
   "execution_count": null,
   "metadata": {},
   "outputs": [],
   "source": [
    "import numpy as np\n",
    "from scipy.stats import poisson, chisquare, chi2\n",
    "\n",
    "# observed frequencies\n",
    "obs = np.array([34, 33, 16, 10, 4, 2, 1])\n"
   ]
  },
  {
   "cell_type": "code",
   "execution_count": null,
   "metadata": {},
   "outputs": [],
   "source": [
    "set_spines(plt.axes())\n"
   ]
  },
  {
   "cell_type": "markdown",
   "metadata": {},
   "source": [
    "## 1.2\n",
    "Implement a function 'chi_square' and calculate the $\\chi^2$ statistics using the observed and expected frequencies. Compare your results to the 'scipy.stats.chisquare' function.\n",
    "\n",
    "The formula for the $\\chi^2$ statistic is $\\chi^2 = \\sum_{i=1}^{N} \\frac{(x_i - \\mu_i)^2}{\\mu_i}$, where $N$ is the number of categories, $x_i$ is the observed frequency, and $\\mu_i$ is the expected frequency.\n",
    "\n",
    "Important: Reweight the expected frequencies w.r.t. observed frequencies such that they sum to the total number of photon emitted (100): $\\mu * \\frac{\\sum_{i=1}^{N} x_i}{\\sum_{i=1}^{N} \\mu_i}$. Otherwise 'scipy.stats.chisquare' might cause an error.\n"
   ]
  },
  {
   "cell_type": "markdown",
   "metadata": {},
   "source": [
    "## 1.3\n",
    "Calculate the critical value for a significance level of 0.05 and decide whether the observed frequencies can match the Poisson distribution. \n",
    "\n",
    "scipy.stats.chisquare also outputs the p-value of the test. With which confidence can we reject the null hypothesis?\n",
    "\n",
    "Hint: Use chi2.ppf() from scipy.stats to calculate the critical value. The degrees of freedom (df) for the $\\chi^2$ test for goodness of fit are $\\text{df} = N - 1$, where $N$ is the number of categories."
   ]
  },
  {
   "cell_type": "markdown",
   "metadata": {},
   "source": [
    "# Ex.8.2 Molecular Dynamics of Gold and Copper\n",
    "\n",
    "\n",
    "In this exercise, you will analyze the structural information of a given material by using simple statistical tools.\n",
    "\n",
    "The AuCu bi-layer is a two-dimensional (2-D) film. In the ground state ($\\textit{i.e.}$, near null temperature, $T \\sim 0$K), it shows a completely flat layer of Au atoms above a completely flat layer of Cu atoms (see the figure). At $T \\sim 0$K, computational simulations (specifically, Density Functional Theory calculations) predict a value of $0.227$nm for the distance between the two layers. If the system is heated up, then atoms vibrate, changing the structural properties of the film (e.g., the layers are no longer completely flat).\n",
    "\n",
    "\n",
    "On Moodle were uploaded, the results obtained by molecular dynamic simulations, which calculate the evolution in time (in steps of $1$fs) of the AuCu bi-layer at specific temperatures. The simulation of $6878$fs time-steps is divided in three numpy files:\n",
    "\n",
    "\n",
    "- $\\textrm{MD_AuCu_100k.npy}$,  $T \\sim 100$K  with $500$fs steps,\n",
    "- $\\textrm{MD_AuCu_300k.npy}$,  $T \\sim 300$K  with $1378$fs steps,\n",
    "- $\\textrm{MD_AuCu_300k_2.npy}$,  $T \\sim 300$K  with $5000$fs steps.\n",
    "\n",
    "\n",
    "\n",
    "\n",
    "Technical information which may help you and/or answer your most curious questions:\n",
    "- The simulations include $50$ atoms of Cu and 50 atoms of Au.\n",
    "\n",
    "- Periodic boundary conditions are applied ($\\textit{i.e.}$, simulations of an infinitely large 2-D film).\n",
    "- A rigid drift ($\\textit{i.e.}$, the rigid translation) of the system along z occurs, but it is not physically relevant (there is nothing but the 2-D AuCu film in the simulation universe).\n",
    "\n",
    "- Positions are expressed in Angström.\n",
    "- The stored arrays have four indexes, the time (fs), the element type 0=Au/1=Cu, an index to identify the individual atom, and the three xyz coordinates ."
   ]
  },
  {
   "cell_type": "code",
   "execution_count": null,
   "metadata": {},
   "outputs": [],
   "source": [
    "import numpy as np\n",
    "import matplotlib.pyplot as plt\n",
    "plt.figure(dpi=120)\n",
    "plt.imshow(plt.imread('ex82_vmd.png'))\n",
    "plt.axis('off')\n",
    "plt.show()"
   ]
  },
  {
   "cell_type": "markdown",
   "metadata": {},
   "source": [
    "## 2.1\n",
    "Load the 3 files using Numpy, join the three arrays from the non strained simulations: the one at 100k, and the two at 300k. <br>\n",
    "Scatter in a matplotlib 3Daxis plot the atoms' positions at time zero (the fist point in the 100k simulation) "
   ]
  },
  {
   "cell_type": "code",
   "execution_count": null,
   "metadata": {},
   "outputs": [],
   "source": [
    "%matplotlib notebook\n",
    "fig = plt.figure(figsize=(5,5))\n",
    "ax = fig.add_subplot(projection='3d')\n",
    "\n",
    "#....\n",
    "\n",
    "set_axes_equal(ax)\n",
    "ax.view_init(0, 10)\n"
   ]
  },
  {
   "cell_type": "code",
   "execution_count": null,
   "metadata": {},
   "outputs": [],
   "source": [
    "%matplotlib inline "
   ]
  },
  {
   "cell_type": "markdown",
   "metadata": {},
   "source": [
    "## 2.2\n",
    "At every time step, calculate the average position along z of the Cu and Au layers, separately (averaged for all atoms of one type). Plot the data, \n"
   ]
  },
  {
   "cell_type": "markdown",
   "metadata": {},
   "source": [
    "## 2.3\n",
    "At every time step, calculate the standard deviation of the z coordinate both for the Cu- and Au atoms, separately.\n"
   ]
  },
  {
   "cell_type": "markdown",
   "metadata": {},
   "source": [
    "## 2.4\n",
    "Calculate the average distance between the Au and Cu layers."
   ]
  },
  {
   "cell_type": "markdown",
   "metadata": {},
   "source": [
    "## 2.5\n",
    "Plot in a graph including the average distance (from task 4), and the standard deviations of Cu and Au atoms (from task 3), as functions of time. "
   ]
  },
  {
   "cell_type": "markdown",
   "metadata": {},
   "source": [
    "## 2.6.\n",
    "\n",
    "For the three simulations average over time the distance between the two layers and the standard deviations of the two layers. \n",
    "Print the data and comment the effects of raising the temperature from $100$K to $300$K .\n"
   ]
  },
  {
   "cell_type": "markdown",
   "metadata": {},
   "source": [
    "## 2.7\n",
    "Summarize your results of average distance and standard deviation in a pandas DataFrame"
   ]
  },
  {
   "cell_type": "code",
   "execution_count": null,
   "metadata": {},
   "outputs": [],
   "source": []
  },
  {
   "cell_type": "code",
   "execution_count": null,
   "metadata": {},
   "outputs": [],
   "source": []
  }
 ],
 "metadata": {
  "kernelspec": {
   "display_name": "Python 3 (ipykernel)",
   "language": "python",
   "name": "python3"
  },
  "language_info": {
   "codemirror_mode": {
    "name": "ipython",
    "version": 3
   },
   "file_extension": ".py",
   "mimetype": "text/x-python",
   "name": "python",
   "nbconvert_exporter": "python",
   "pygments_lexer": "ipython3",
   "version": "3.8.12"
  }
 },
 "nbformat": 4,
 "nbformat_minor": 4
}
